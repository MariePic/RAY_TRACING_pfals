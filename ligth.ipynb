{
 "cells": [
  {
   "cell_type": "raw",
   "metadata": {},
   "source": [
    "Importation des modules/packages nécessaires\n",
    "Important du fichier Python \"definition \" contenant les différentes fonctions."
   ]
  },
  {
   "cell_type": "raw",
   "metadata": {},
   "source": [
    "import json\n",
    "import sys\n",
    "import vtk\n",
    "import numpy\n",
    "from definition import *"
   ]
  },
  {
   "cell_type": "markdown",
   "metadata": {},
   "source": [
    "Fonction de conversion numpy vers list et vice-versa"
   ]
  },
  {
   "cell_type": "code",
   "execution_count": null,
   "metadata": {},
   "outputs": [],
   "source": [
    "l2n = lambda l: numpy.array(l)\n",
    "n2l = lambda n: list(n)\n",
    "\n",
    "plant_result = {}"
   ]
  },
  {
   "cell_type": "markdown",
   "metadata": {},
   "source": [
    "Ouverture du fichier de données"
   ]
  },
  {
   "cell_type": "code",
   "execution_count": null,
   "metadata": {},
   "outputs": [],
   "source": [
    "try:\n",
    "   with open('donnee_entree.json') as f:\n",
    "     data = json.load(f)\n",
    "except:\n",
    "   sys.exit(\"Error: enable to read file\")"
   ]
  },
  {
   "cell_type": "markdown",
   "metadata": {},
   "source": [
    "Création de l'environnement virtuelle"
   ]
  },
  {
   "cell_type": "code",
   "execution_count": null,
   "metadata": {},
   "outputs": [],
   "source": [
    "ren = vtk.vtkRenderer()\n",
    "ren.SetBackground(1, 1, 1)\n",
    "renWin = vtk.vtkRenderWindow()\n",
    "renWin.AddRenderer(ren)\n",
    "\n",
    "# create a renderwindowinteractor\n",
    "iren = vtk.vtkRenderWindowInteractor()\n",
    "iren.SetRenderWindow(renWin)"
   ]
  },
  {
   "cell_type": "code",
   "execution_count": null,
   "metadata": {},
   "outputs": [],
   "source": [
    "Création de la chambre de culture"
   ]
  },
  {
   "cell_type": "code",
   "execution_count": null,
   "metadata": {},
   "outputs": [],
   "source": [
    "# cube = chambre de culture\n",
    "xwidth = data[\"room\"][\"width\"]\n",
    "ywidth = data[\"room\"][\"height\"]\n",
    "zwidth = data[\"room\"][\"ceiling-height\"]\n",
    "cube = vtk.vtkCubeSource()\n",
    "cube.SetXLength(xwidth)\n",
    "cube.SetYLength(ywidth)\n",
    "cube.SetZLength(zwidth)\n",
    "cube.Update()\n",
    "\n",
    "cubeMapper = vtk.vtkPolyDataMapper()\n",
    "cubeMapper.SetInputConnection(cube.GetOutputPort())\n",
    "\n",
    "cubeActor = vtk.vtkActor()\n",
    "cubeActor.SetMapper(cubeMapper)\n",
    "cubeActor.SetOrigin(0, 0, 0) #?????\n",
    "cubeActor.GetProperty().SetOpacity(0.1)\n",
    "cubeActor.GetProperty().SetColor(0, 0, 1)\n",
    "cubeActor.GetProperty().EdgeVisibilityOn()  # show edges/wireframe\n",
    "cubeActor.GetProperty().SetEdgeColor(0, 1, 0)\n",
    "\n",
    "ren.AddActor(cubeActor)"
   ]
  },
  {
   "cell_type": "markdown",
   "metadata": {},
   "source": [
    "Indiquer que ce sera des surfaces d'intersections"
   ]
  },
  {
   "cell_type": "code",
   "execution_count": null,
   "metadata": {},
   "outputs": [],
   "source": [
    "# indiquer que ce sera des surfaces interscetions \n",
    "obbSurface = vtk.vtkOBBTree()\n",
    "obbSurface.SetDataSet(cube.GetOutput())\n",
    "obbSurface.BuildLocator()\n"
   ]
  },
  {
   "cell_type": "markdown",
   "metadata": {},
   "source": [
    "Créations des normales \"virtuelles\" pour chaque point de la surface"
   ]
  },
  {
   "cell_type": "code",
   "execution_count": null,
   "metadata": {},
   "outputs": [],
   "source": [
    "# Create a new 'vtkPolyDataNormals' and connect to the 'earth' sphere\n",
    "normalsCalcSurface = vtk.vtkPolyDataNormals()\n",
    "normalsCalcSurface.SetInputConnection(cube.GetOutputPort())\n",
    "\n",
    "# Disable normal calculation at cell vertices\n",
    "normalsCalcSurface.ComputePointNormalsOff()\n",
    "# Enable normal calculation at cell centers\n",
    "normalsCalcSurface.ComputeCellNormalsOn()\n",
    "# Disable splitting of sharp edges\n",
    "normalsCalcSurface.SplittingOff()\n",
    "# Disable global flipping of normal orientation\n",
    "normalsCalcSurface.FlipNormalsOff()\n",
    "# Enable automatic determination of correct normal orientation\n",
    "normalsCalcSurface.AutoOrientNormalsOn()\n",
    "# Perform calculation\n",
    "normalsCalcSurface.Update()"
   ]
  },
  {
   "cell_type": "markdown",
   "metadata": {},
   "source": [
    "Création de la plante "
   ]
  },
  {
   "cell_type": "code",
   "execution_count": null,
   "metadata": {},
   "outputs": [],
   "source": [
    "# plante\n",
    "plant = vtk.vtkPlaneSource()\n",
    "plant.SetOrigin(-30, -75, -10)  #premier point\n",
    "plant.SetPoint1(-30, -75, 30)   #deuxième point\n",
    "plant.SetPoint2(40, -75, -10)   #troisième point\n",
    "plant.SetXResolution(15)\n",
    "plant.SetYResolution(15)\n",
    "plant.Update()\n",
    "\n",
    "plantMapper = vtk.vtkPolyDataMapper()\n",
    "plantMapper.SetInputConnection(plant.GetOutputPort())\n",
    "\n",
    "plantActor = vtk.vtkActor()\n",
    "plantActor.SetMapper(plantMapper)\n",
    "plantActor.GetProperty().SetColor(0, 1, 0)\n",
    "plantActor.GetProperty().EdgeVisibilityOn()  # show edges/wireframe\n",
    "plantActor.GetProperty().SetEdgeColor(0, 1, 0)\n",
    "\n",
    "ren.AddActor(plantActor)"
   ]
  },
  {
   "cell_type": "code",
   "execution_count": null,
   "metadata": {},
   "outputs": [],
   "source": [
    "# indiquer que ce sera des surfaces interscetions \n",
    "obbPlant = vtk.vtkOBBTree()\n",
    "obbPlant.SetDataSet(plant.GetOutput())\n",
    "obbPlant.BuildLocator()\n"
   ]
  },
  {
   "cell_type": "markdown",
   "metadata": {},
   "source": [
    "Lampes + boucle"
   ]
  },
  {
   "cell_type": "code",
   "execution_count": null,
   "metadata": {},
   "outputs": [],
   "source": [
    "v=0\n",
    "n=0\n",
    "while v < 3: # la boucle se termine à la fin du code!!\n",
    " x = data[\"array\"][str(v)][\"x\"] #par rapport à l'origine qui est au centre du cube\n",
    " y = data[\"array\"][str(v)][\"y\"]\n",
    " z = data[\"array\"][str(v)][\"z\"]\n",
    "\n",
    " Lamp = vtk.vtkSphereSource()\n",
    " Lamp.SetCenter(x, y, z)\n",
    " Lamp.SetRadius(5)\n",
    " Lamp.SetStartTheta(data[\"array\"][str(v)][\"angle\"])\n",
    " Lamp.SetPhiResolution(15)\n",
    " Lamp.SetThetaResolution(15)\n",
    "\n",
    " mapper = vtk.vtkPolyDataMapper()\n",
    " mapper.SetInputConnection(Lamp.GetOutputPort())\n",
    "\n",
    " pointActor = vtk.vtkActor()\n",
    " pointActor.SetMapper(mapper)\n",
    " pointActor.SetOrigin(0, 0, 0) #???\n",
    " pointActor.GetProperty().SetColor(color(data[\"array\"][str(v)][\"wavelength\"]))\n",
    " pointActor.GetProperty().EdgeVisibilityOn()  # show edges/wireframe\n",
    " pointActor.GetProperty().SetEdgeColor(color(data[\"array\"][str(v)][\"wavelength\"]))\n",
    "\n",
    " ren.AddActor(pointActor)\n",
    "\n",
    " \n",
    " \n",
    "#=============================================================================\n",
    "#Intersection\n",
    "#-----------------------------------------------------------------------------\n",
    "\n",
    "# Création des vecteurs normaux des centres des meshs de la lampes\n",
    "#-----------------------------------------------------------------------------\n",
    "# Get the point centers from 'cellCenterCalc'\n",
    "\n",
    " cellCenterCalcLamp = vtk.vtkCellCenters()\n",
    " cellCenterCalcLamp.SetInputConnection(Lamp.GetOutputPort())\n",
    " cellCenterCalcLamp.Update()\n",
    "\n",
    " pointsCellCentersLamp = cellCenterCalcLamp.GetOutput(0)\n",
    "\n",
    "# Create a new 'vtkPolyDataNormals' and connect to the 'lamp' half-sphere\n",
    " normalsCalcLamp = vtk.vtkPolyDataNormals()\n",
    " normalsCalcLamp.SetInputConnection(Lamp.GetOutputPort())\n",
    "\n",
    "# Disable normal calculation at cell vertices\n",
    " normalsCalcLamp.ComputePointNormalsOff()\n",
    "# Enable normal calculation at cell centers\n",
    " normalsCalcLamp.ComputeCellNormalsOn()\n",
    "# Disable splitting of sharp edges\n",
    " normalsCalcLamp.SplittingOff()\n",
    "# Disable global flipping of normal orientation\n",
    " normalsCalcLamp.FlipNormalsOff()\n",
    "# Enable automatic determination of correct normal orientation\n",
    " normalsCalcLamp.AutoOrientNormalsOn()\n",
    "# Perform calculation\n",
    " normalsCalcLamp.Update()\n",
    "\n",
    "#-----------------------------------------------------------------------------\n",
    "# RAY-TRACING\n",
    "#----------------------------------------------------------------------------\n",
    "  #Extract the normal-vector data at the sun's cells\n",
    " normalsLamp = normalsCalcLamp.GetOutput().GetCellData().GetNormals()\n",
    "   # Extract the normal-vector data at the earth's cells\n",
    " normalsSurface = normalsCalcSurface.GetOutput().GetCellData().GetNormals()\n",
    "\n",
    " # points_lampes_surfaces.update({'lampe'+str(v):{'coord': {}, 'vecteur_incident': {},'vecteur_reflechi':{}, 'point':{}}})\n",
    "\n",
    " for idx in range(pointsCellCentersLamp.GetNumberOfPoints()):\n",
    "     \n",
    "#-----------Premier lancer de rays--------------------------------------------\n",
    "    \n",
    "    # Get coordinates of lamp's cell center\n",
    "    pointLamp = pointsCellCentersLamp.GetPoint(idx)\n",
    "    # Get normal vector at that cell\n",
    "    normalLamp = normalsLamp.GetTuple(idx)\n",
    "    \n",
    "    # Calculate the 'target' of the ray \n",
    "    pointRayTarget = n2l(l2n(pointLamp) + 500*l2n(normalLamp))\n",
    "    \n",
    "    # Check if there are any intersections for the given ray with surface\n",
    "    if isHit(obbSurface, pointLamp, pointRayTarget):  # intersections were found\n",
    "        # Retrieve coordinates of intersection points and intersected cell ids\n",
    "        pointsInter, cellIdsInter = GetIntersect(obbSurface, pointLamp, pointRayTarget)\n",
    "        # Render lines/rays emanating from the slamp. \n",
    "        addLine(ren, pointLamp, pointsInter[0], color(data[\"array\"][str(v)][\"wavelength\"]), opacity = 0.1)\n",
    "        # Render intersection points\n",
    "        addPoint(ren, pointsInter[0], color(data[\"array\"][str(v)][\"wavelength\"]))\n",
    "        # Calculate the incident ray vector\n",
    "        # Get the normal vector at the surface cell that intersected with the ray\n",
    "        normalSurface = normalsSurface.GetTuple(cellIdsInter[0])\n",
    "        vecInc = n2l(l2n(pointRayTarget) - l2n(pointLamp))\n",
    "        # Calculate the reflected ray vector\n",
    "        vecRef = calcVecR(vecInc, normalSurface)\n",
    "        # Calculate the 'target' of the reflected ray \n",
    "        pointRayReflectedTarget = n2l(l2n(pointsInter[0]) + l2n(vecRef))\n",
    "        \n",
    "        # Fresnel \n",
    "        R, T =Fresnel(data[\"room\"][\"n_air\"],data[\"room\"][\"n_paroi\"],vecInc, normalSurface)\n",
    "    \n",
    "    # Check if there are any intersections for the given ray with plante  \n",
    "    if isHit(obbPlant, pointLamp, pointRayTarget):  # intersections were found\n",
    "        # Retrieve coordinates of intersection points and intersected cell ids\n",
    "        ptsInter, cIdsInter = GetIntersect_plant(obbPlant, pointLamp, pointRayTarget)\n",
    "        # Render lines/rays emanating from the slamp. \n",
    "        addLine(ren, pointLamp, ptsInter[0], color(data[\"array\"][str(v)][\"wavelength\"]))\n",
    "        # Render intersection points\n",
    "        addPoint(ren, ptsInter[0], color(data[\"array\"][str(v)][\"wavelength\"]))\n",
    "        \n",
    "        # plant_result.update({'area'+str(cIdsInter):{'cordinate': list(),'lamp': list(), 'wavelength': list(),'rayon':list()}})\n",
    "        # plant_result['area'+str(cIdsInter)]['cordinate'].append(ptsInter[0])\n",
    "        # plant_result['area'+str(cIdsInter)]['lamp'].append(v)\n",
    "        # plant_result['area'+str(cIdsInter)]['wavelength'].append(data[\"array\"][str(v)][\"wavelength\"])\n",
    "        # plant_result['area'+str(cIdsInter)]['rayon'].append('direct')\n",
    "        \n",
    "    \n",
    "        \n",
    "#-------------Première réflection----------------------------------------------\n",
    "      \n",
    "      # Check if there are any intersections for the given ray\n",
    "          # Check if there are any intersections for the given ray with plante  \n",
    "    if isHit(obbSurface,  pointsInter[0], pointRayReflectedTarget):  # intersections were found\n",
    "          # Retrieve coordinates of intersection points and intersected cell ids\n",
    "            pointsInter, cellIdsInter = GetIntersect(obbSurface,  pointsInter[0], pointRayReflectedTarget)\n",
    "     \n",
    "            addLine(ren,  pointsInter[0], pointsInter[1], color(data[\"array\"][str(v)][\"wavelength\"]),opacity=0.1)\n",
    "            addPoint(ren, pointsInter[1], color(data[\"array\"][str(v)][\"wavelength\"]))\n",
    "         \n",
    "           # Calculate the incident ray vector\n",
    "           # Get the normal vector at the earth cell that intersected with the ray\n",
    "            normalSurface = normalsSurface.GetTuple(cellIdsInter[1])\n",
    "            vecInc = n2l(l2n(pointRayReflectedTarget) - l2n(pointsInter[1]))\n",
    "           # Calculate the reflected ray vector\n",
    "            vecRef = calcVecR(vecInc, normalSurface)\n",
    "            \n",
    "            pointRayReflectedTarget = n2l(l2n(pointsInter[1]) + l2n(vecRef))\n",
    "            \n",
    "    # Check if there are any intersections for the given ray with plante  \n",
    "    if isHit(obbPlant, pointsInter[0], pointRayReflectedTarget):  # intersections were found\n",
    "        # Retrieve coordinates of intersection points and intersected cell ids\n",
    "        ptsInter, cIdsInter = GetIntersect_plant(obbPlant,  pointsInter[0], pointRayReflectedTarget)\n",
    "        # Render lines/rays emanating from the slamp. \n",
    "        addLine(ren, pointsInter[0], ptsInter[0], color(data[\"array\"][str(v)][\"wavelength\"]))\n",
    "        # Render intersection points\n",
    "        addPoint(ren, ptsInter[0], color(data[\"array\"][str(v)][\"wavelength\"]))\n",
    "      \n",
    "\n",
    "        # plant_result['area'+str(cIdsInter)]['cordinate'].append(ptsInter[0])\n",
    "        # plant_result['area'+str(cIdsInter)]['lamp'].append(v)\n",
    "        # plant_result['area'+str(cIdsInter)]['wavelength'].append(data[\"array\"][str(v)][\"wavelength\"])\n",
    "        # plant_result['area'+str(cIdsInter)]['rayon'].append('First reflection')\n",
    "        \n",
    "#---------- deuxième reflection------------------------------------------------\n",
    "\n",
    "\n",
    " v+=1\n"
   ]
  },
  {
   "cell_type": "markdown",
   "metadata": {},
   "source": [
    "Visualisation"
   ]
  },
  {
   "cell_type": "code",
   "execution_count": null,
   "metadata": {},
   "outputs": [],
   "source": [
    "iren.Initialize()\n",
    "renWin.Render()\n",
    "iren.Start()"
   ]
  }
 ],
 "metadata": {
  "kernelspec": {
   "display_name": "Python 3",
   "language": "python",
   "name": "python3"
  },
  "language_info": {
   "codemirror_mode": {
    "name": "ipython",
    "version": 3
   },
   "file_extension": ".py",
   "mimetype": "text/x-python",
   "name": "python",
   "nbconvert_exporter": "python",
   "pygments_lexer": "ipython3",
   "version": "3.7.9"
  }
 },
 "nbformat": 4,
 "nbformat_minor": 4
}
