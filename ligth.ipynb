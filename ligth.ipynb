{
 "cells": [
  {
   "cell_type": "code",
   "execution_count": null,
   "metadata": {},
   "outputs": [],
   "source": [
    "test\n"
   ]
  },
  {
   "cell_type": "code",
   "execution_count": null,
   "metadata": {},
   "outputs": [],
   "source": [
    "plant = vtk.vtkPlaneSource()\n",
    "plant.SetOrigin(-30, -75, -10)  #premier point\n",
    "plant.SetPoint1(-30, -75, 30)   #deuxième point\n",
    "plant.SetPoint2(40, -75, -10)   #troisième point\n",
    "plant.SetXResolution(5)\n",
    "plant.SetYResolution(5)\n",
    "plant.Update()"
   ]
  },
  {
   "cell_type": "code",
   "execution_count": null,
   "metadata": {},
   "outputs": [],
   "source": [
    "v=0\n",
    "n=0\n",
    "while v < 3: # la boucle se termine à la fin du code!!\n",
    " x = data[\"array\"][str(v)][\"x\"] #par rapport à l'origine qui est au centre du cube\n",
    " y = data[\"array\"][str(v)][\"y\"]\n",
    " z = data[\"array\"][str(v)][\"z\"]\n",
    "\n",
    " Lamp = vtk.vtkSphereSource()\n",
    " Lamp.SetCenter(x, y, z)\n",
    " Lamp.SetRadius(5)\n",
    " Lamp.SetStartTheta(data[\"array\"][str(v)][\"angle\"])\n",
    " Lamp.SetPhiResolution(15)\n",
    " Lamp.SetThetaResolution(15)"
   ]
  }
 ],
 "metadata": {
  "kernelspec": {
   "display_name": "Python 3",
   "language": "python",
   "name": "python3"
  },
  "language_info": {
   "codemirror_mode": {
    "name": "ipython",
    "version": 3
   },
   "file_extension": ".py",
   "mimetype": "text/x-python",
   "name": "python",
   "nbconvert_exporter": "python",
   "pygments_lexer": "ipython3",
   "version": "3.7.9"
  }
 },
 "nbformat": 4,
 "nbformat_minor": 4
}
