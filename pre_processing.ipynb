{
 "cells": [
  {
   "cell_type": "markdown",
   "metadata": {},
   "source": [
    "### Les fonctions suivantes sont des ébauches de quelques notions physiques de photométrie. "
   ]
  },
  {
   "cell_type": "markdown",
   "metadata": {},
   "source": [
    "Les notions physiques essentielles de la photométrie sont rappelées dans ce document d'auteur anonyme https://bscw.telecom-bretagne.eu/pub/bscw.cgi/d7540038/photometrie.pdf (31/12/20)."
   ]
  },
  {
   "cell_type": "code",
   "execution_count": 3,
   "metadata": {},
   "outputs": [],
   "source": [
    "import numpy"
   ]
  },
  {
   "cell_type": "code",
   "execution_count": 4,
   "metadata": {},
   "outputs": [],
   "source": [
    "def calcAngle(A,B): \n",
    "    A = l2n(A)\n",
    "    B = l2n(B)\n",
    "    \n",
    "    prodscal = A[0] * B[0] + A[1] * B[1] + vA[2] * vB[2]\n",
    "    NormeA = numpy.sqrt(A[0]**2 + A[1]**2 + A[2]**2)\n",
    "    NormeB = numpy.sqrt(B[0]**2 + B[1]**2 + B[2]**2)\n",
    "   \n",
    "    return numpy.arccos( prodscal / (NormeA * NormeB))"
   ]
  },
  {
   "cell_type": "code",
   "execution_count": 5,
   "metadata": {},
   "outputs": [],
   "source": [
    "def intensite(rayon, normal_lamp): #en candela [cd]\n",
    "    angle = calcAngle (rayon, normal_lamp)\n",
    "    I =io*numpy.cos(angle)\n",
    "    return I"
   ]
  },
  {
   "cell_type": "code",
   "execution_count": 6,
   "metadata": {},
   "outputs": [],
   "source": [
    "def angle_solid(surface, distance, rayon, normal_surface):  # en steradians [sr]\n",
    "    alpha = calcAngle (rayon, normal_surface)\n",
    "    angle_solid = (surface/distance**2)*numpy.cos(alpha)\n",
    "    return angle_solid"
   ]
  },
  {
   "cell_type": "code",
   "execution_count": 7,
   "metadata": {},
   "outputs": [],
   "source": [
    "def flux(intensite, angle_solid):  # en lumens [lm]\n",
    "    flux = intensite*angle_solid\n",
    "    return flux"
   ]
  },
  {
   "cell_type": "code",
   "execution_count": 8,
   "metadata": {},
   "outputs": [],
   "source": [
    "def eclairement(intensite,rayon_incident,normal_surface): # en lux [lx]\n",
    "    angle = calcAngle(rayon_incident,normal_surface)\n",
    "    distance = numpy.sqrt(rayon_incident[0]**2 + rayon_incident[1]**2 + rayon_incident[2]**2)\n",
    "    \n",
    "    Em = intensite*numpy.cos(angle)/distance**2\n",
    "    return Em"
   ]
  },
  {
   "cell_type": "code",
   "execution_count": 10,
   "metadata": {},
   "outputs": [],
   "source": [
    "def luminance(intensite,rayon_incident,normal_surface,surface): # en candela par mètre carré\n",
    "    angle = calcAngle(rayon_incident,normal_surface)\n",
    "    luminance = intensite/(numpy.cos(angle)*surface)\n",
    "    \n",
    "    return luminance"
   ]
  }
 ],
 "metadata": {
  "kernelspec": {
   "display_name": "Python 3",
   "language": "python",
   "name": "python3"
  },
  "language_info": {
   "codemirror_mode": {
    "name": "ipython",
    "version": 3
   },
   "file_extension": ".py",
   "mimetype": "text/x-python",
   "name": "python",
   "nbconvert_exporter": "python",
   "pygments_lexer": "ipython3",
   "version": "3.7.9"
  }
 },
 "nbformat": 4,
 "nbformat_minor": 4
}
