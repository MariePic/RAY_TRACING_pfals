{
 "cells": [
  {
   "cell_type": "markdown",
   "metadata": {},
   "source": [
    "*Le travail présent a été réalisé par une étudiante dans le cadre du cours \"Agriculture en environnement controlé\" donné en Master 2 à Gembloux Agro-bio Tech (Belgique) par le professeur Fédéric Lebeau. Ce travail a été également encadré par Arnaud Bouvry, assistant-doctorant.*"
   ]
  },
  {
   "cell_type": "markdown",
   "metadata": {},
   "source": [
    "#                                     Ray-tracing des rayons dans une chambre de culture"
   ]
  },
  {
   "cell_type": "markdown",
   "metadata": {},
   "source": [
    "###                                                               Marie Picron   "
   ]
  },
  {
   "cell_type": "markdown",
   "metadata": {},
   "source": [
    "##### 1.Introduction "
   ]
  },
  {
   "cell_type": "markdown",
   "metadata": {},
   "source": [
    "La croissance démographique entrainant une pression sur la suffisance alimentaire et l'agriculure menacée par les conditions métérologiques et par la disponibilité des ressources, il est nécessaire aujourd'hui de repenser à une nouvelle forme d'agriculture. \n",
    "\n",
    "Les *Plant Factories with Artificial Lamps* (PFALs) connaissent un essor depuis quelques décinies. Ces infrastructures constituent à verticaliser les cultures et à suivre et controler l'environnement et ses divers paramètres climatiques, les entrées et les sorties. En plus d'approvisonner en alimentation, les PFALs permettent aussi de faciliter la recherche et l'éducation. En effet, des projets immergent grâce à la capacité d'intéragir et de manipuler les différents paramètres sans dépendre d'autres variables. Ainsi, l'étude et la compréhension des différents phénomènes sont de plus en plus précis et complet. \n",
    "\n",
    "A l'aube de l'industrie 4.0 où on tend vers un monde digitalisé, les PFALs peuvent être virtualisés pour, non seulement éviter les différentes expérimentations et manipulations chronophages et épuisant des ressources, mais aussi pour modéliser et comprendre les différents phénomènes.  \n",
    "\n",
    "Ainsi, grâce à la virtualisation, le ray-tracing des rayons venant d'une lampe peut être modélisé afin d'observer les trajectoires de ces différents rayons et leurs intersections avec les plantes dans une chambre de culture. Cela permettra de conclure quelles sont les longueurs d'onde que la plante reçoit et comment la plante va se comporter. Aussi, les études sur l'influence des propriètes luminueux des lampes dans la chambre de culture peuvent être réalisées. \n",
    "Divers logiciels existent pour permettre le ray-tracing (donner des exemples). Le travail présent utilise le logiciel _Visualization ToolKit_ (VTK)."
   ]
  },
  {
   "cell_type": "markdown",
   "metadata": {},
   "source": [
    "- ***Le logiciel VTK***"
   ]
  },
  {
   "cell_type": "markdown",
   "metadata": {},
   "source": [
    "Ce logiciel open source et puissant permet de réaliser différents algorithmes dans un espace de 3 dimensions (comme la visualisation de données volumiques ou le traitement d'image). \n",
    "\n",
    "VTK permet de manipuler et d'intéragir facilement avec les objets sans se soucier des coordonnées spatiales et des différentes propriétes géométriques. En effet, par exemple, des algorithmes de VTK peuvent sélectionner automatiquement le centre d'une forme géométrique. Cela peut s'averer très utile pour les formes très complexes. \n",
    "\n",
    "Bien que ce séduisant logiciel présente de nombreux avantages, il contient, cependant, aussi de nombreux inconvenients. En effet, le site de documentation de VTK (https://vtk.org) est, personnellement, mal instruit. Un utilisateur débutant avec VTK aura plus de difficulté à prendre en main ce module. \n",
    "\n",
    "De plus, pour réaliser une simple opération, il est parfois nécessaire de coder plusieurs lignes et fonctions afin d'obtenir l'objectif. Il existe des architectures d'hiérachie de classes (fonctions) à procéder et à respecter avec éventuellement des options à ajouter. Avec ces différentes classes, il faut associer entre elles pour obtenir le résultat souhaité. Par exemple, pour visualiser une forme géométrique, il faut suivre la procédure suivante: \n",
    "\n",
    "$$\n",
    "Source \\xrightarrow{\\text{}} Mapper \\xrightarrow{\\text{}} Actor \\xrightarrow{\\text{}} Renderer\n",
    "$$\n",
    "\n",
    "Ces différentes classes seront expliquées ultérieurement.\n",
    "                                                  "
   ]
  },
  {
   "cell_type": "markdown",
   "metadata": {},
   "source": [
    "### 2. Rappels Théoriques"
   ]
  },
  {
   "cell_type": "markdown",
   "metadata": {},
   "source": [
    "#### Lois de Réflection"
   ]
  },
  {
   "cell_type": "markdown",
   "metadata": {},
   "source": [
    "Les lois de la réflexion seront utilisées dans le cas du travail présent et sont rappelées dans ce paragraphe.\n",
    "Lorsqu'un rayon lumineux (rayon incident) arrive sur une surface (point d'incidence), ce rayon peut être réfléchi de différentes manières: soit de façon spéculaire, soit de façon diffuse. Cette réflection dépend de la rugosité de la surface.\n",
    "\n",
    "<img src =\"http://localhost:8888/files/Documents/image/lo_speculardiffuse.jpg?_xsrf=2%7Cbac72762%7C792301d8141d3aaeb662b9cc90fa357e%7C1606985463\" width=\"300\">\n",
    "\n",
    "***Réflection Spéculaire***\n",
    "\n",
    "La réflexion spéculaire est un phénomène où le rayon se comporte parfaitement comme un miroir et suit les lois de Snell-Descartes. Le rayon incident forme un angle avec la normale du point incident, appelé angle d'incident $\\theta_i$. De la même manière, l'angle formé entre le rayon réfléchi et la normale est l'angle réfléchi $\\theta_r$. La loi de Snell-Descartes démontre que les valeurs d'angles incident et réfléchi doivent être identique comme présenté sur la figure suivante. \n",
    "\n",
    "\n",
    "<img src =\"http://localhost:8888/files/Documents/image/snell_descartes.PNG?_xsrf=2%7Cbac72762%7C792301d8141d3aaeb662b9cc90fa357e%7C1606985463\" width=\"200\">\n",
    "\n",
    "***Réfléction Diffuse***\n",
    "\n",
    "La réflexion diffuse, quant à elle, signifie que la surface réfléchie le rayon incident aléatoirement dans toutes les directions du point d'incident. A l'inverse de la surface spéculaire où elle est parfaitement polie, la surface diffuse est quant à elle rugueuse. \n",
    "\n",
    "C'est deux modes de réflection évoqués sont deux cas extrèmes et irréaliste. En effet, une surface n'est pas parfaitement diffuse, ni spéculaire, mais un compromis entre les deux.  \n",
    "\n",
    "La lumière est un peu dispersée autour du vecteur de la réflection spéculaire et forme un lobe bleu comme démontre la figure suivante. \n",
    "La forme du lobe est fonction de la rugosité de la surface. Plus une surface est rugeuse, plus le lobe sera dispersé autour de l'axe de réflection spéculaire. A l'inverse, plus une surface sera poli, plus le lobe sera fin et ressemblera à la réflexion spéculaire parfaite (comme dans le cas d'un miroir). \n",
    "\n",
    "Si nous émettons l'hypothèse que la surface est de nature isotrophe, le forme du lobe sera symétrique autour de l'axe de réflection spéculaire. En effet, tout déplacement d'un certain angle $\\Omega$ de l'axe entraine une diminution de la luminance. Si, en gardant ce même angle d'écart $\\Omega$, on se déplace autour de l'axe, la luminance sera identique. \n",
    "\n",
    "La diffusion peut être modélisée comme la diffusion lambertienne où la lumière est éparpillée également dans toutes les directions de la surface. Cette diffusion est représentée par le demi-cercle vert. \n",
    "\n",
    "<img src =\"http://localhost:8888/files/Documents/image/reflection.PNG?_xsrf=2%7Cbac72762%7C792301d8141d3aaeb662b9cc90fa357e%7C1606985463\" width=\"300\">\n"
   ]
  },
  {
   "cell_type": "markdown",
   "metadata": {},
   "source": [
    "#### Modèle d'illumination de Phong\n",
    "\n",
    "Pour modèliser l'approximation de la distribution angulaire du rayonnement pour chaque point incident, une approche classique est le modèle de Phong. \n",
    "\n",
    "Pour ce modèle, la lumière réfléchie est divisée en 3 composantes :\n",
    "\n",
    "- **La composante ambiante** représente les parasites d'origine étrangère que la source lumineuse (par exemple la lumière réfléchie d'un autre point).\n",
    "\n",
    "- **La composante diffuse** \n",
    "\n",
    "- **La composante spéculaire**\n",
    "\n",
    "<img src =\"http://localhost:8888/files/Documents/image/phong.PNG?_xsrf=2%7Cbac72762%7C792301d8141d3aaeb662b9cc90fa357e%7C1606985463\" width=\"400\">\n",
    "\n",
    "Pour chaque matériau, on défini des constantes caractéristiques : \n",
    "- $ka$ $\\in$ [0:1] liée à la composante ambiante\n",
    "- $kd$ $\\in$ [0:1] liée à la composante diffuse\n",
    "- $ks$ $\\in$ [0:1] liée à la composante spéculaire\n",
    "- $ \\alpha$ liée à la brillance du matériaux\n",
    "\n",
    "L'intensité réfléchie de la composante ambiante est donnée par $Ia =ia.ka$"
   ]
  },
  {
   "cell_type": "markdown",
   "metadata": {},
   "source": [
    "L'intensité réfléchie de la composante diffuse est donnée par  $Id$ $=$ $id$.$kd$.$cos$$\\theta$"
   ]
  },
  {
   "cell_type": "markdown",
   "metadata": {},
   "source": [
    "L'intensité réfléchie de la composante spéculaire est donnée par $Is = is.ks.$$\\cos$$^\\alpha$$\\Omega$"
   ]
  },
  {
   "cell_type": "markdown",
   "metadata": {},
   "source": [
    "Avec $ia$ , $id$ et $is$ l'intensité incident respectivement ambiante, diffuse et spéculaire. "
   ]
  },
  {
   "cell_type": "markdown",
   "metadata": {},
   "source": [
    "L'intensité totale est la somme des trois intensité $I = Ia + Id +Is$"
   ]
  },
  {
   "cell_type": "markdown",
   "metadata": {},
   "source": [
    "#### Coefficient de Fresnel et loi de Snell "
   ]
  },
  {
   "cell_type": "markdown",
   "metadata": {},
   "source": [
    "L'avenir d'un photon arrivé à un point d'incidence entre deux milieux distincts est soit d'être réfléchi, soit d'être transmis dans le nouveau milieu. "
   ]
  },
  {
   "cell_type": "markdown",
   "metadata": {},
   "source": [
    "<img src =\"http://localhost:8889/files/Documents/image/reflection_transmission.PNG?_xsrf=2%7Cbac72762%7C792301d8141d3aaeb662b9cc90fa357e%7C1606985463\" width=\"250\">\n"
   ]
  },
  {
   "cell_type": "markdown",
   "metadata": {},
   "source": [
    "La loi de Snell permet de déterminer l'ange entre la normale et le rayon transmis, appelé l'angle de transmission ($\\theta_t$) selon l'équation suivante:\n",
    "$$\n",
    "\\eta_2sin\\theta_t = \\eta_1sin\\theta_i   \\iff  \\theta_t=arcsin\\left(\\frac {\\eta_1} {\\eta_2}sin(\\theta_i)\\right)     \n",
    "$$\n",
    "Cet angle varie en fonction de l'angle d'incidence et des indices réfractives des milieux.\n",
    "Il est intéressant de souligner que l'angle de transmission est limité à 90° de la normal du point incident. Au-délas de 90°, le vecteur de transmission est considéré comme un vecteur de réflection. Dans ce cas, la réflection est totale , il n'y a pas de réfraction possible. Ce phénomène se produit lorque l'angle incident est supérieur à une certaine valeur d'angle, appelée angle critique ($\\theta_c$). \n",
    "$$\n",
    "\\theta_c=arcsin\\left(\\frac {\\eta_2} {\\eta_1}sin(90)\\right) \n",
    "$$"
   ]
  },
  {
   "cell_type": "markdown",
   "metadata": {},
   "source": [
    "Les probabilités qu'un rayon soit réfléchi ou transmis se calculent selon les équations de Fresnel. Ces équations dépendent de l'indice réfractive des deux milieux ($\\eta_1$et $\\eta_2$) ainsi de l'angle d'incidence ($\\theta_i$)."
   ]
  },
  {
   "cell_type": "markdown",
   "metadata": {},
   "source": [
    "La probabilité qu'un photon soit réfléchi est formulée comme la moyenne de la composante horizontale et verticale du vecteur réfléchi.\n",
    "Dans le cas où il y a une réflection totale, la probabilité vaut naturellement 1."
   ]
  },
  {
   "cell_type": "markdown",
   "metadata": {},
   "source": [
    "$$\n",
    "R(\\theta_i) = \\begin{cases}\\frac{R_\\perp(\\theta_i) + R_\\lVert(\\theta_i)}{2} & \\text{if not total reflection} \\\\1 & \\text{if total reflection}\\end{cases}\n",
    "$$"
   ]
  },
  {
   "cell_type": "markdown",
   "metadata": {},
   "source": [
    "Les composantes verticale et normales du vecteur réfléchi sont calculé selon les équations suivantes:"
   ]
  },
  {
   "cell_type": "markdown",
   "metadata": {},
   "source": [
    "$$\n",
    "R_\\perp(\\theta_i) = \\left(\\frac {\\eta_1cos(\\theta_i) - \\eta_2cos(\\theta_t) } {\\eta_1cos(\\theta_i) + \\eta_2cos(\\theta_t)}\\right)^2\n",
    "$$\n",
    "\n",
    "\n",
    "$$\n",
    "R_\\lVert(\\theta_i) = \\left(\\frac {\\eta_2cos(\\theta_i) - \\eta_1cos(\\theta_t) } {\\eta_1cos(\\theta_i) + \\eta_2cos(\\theta_t)}\\right)^2\n",
    "$$\n"
   ]
  },
  {
   "cell_type": "markdown",
   "metadata": {},
   "source": [
    "avec $$ cos(\\theta_t) = \\sqrt{1-\\left(\\frac {\\eta_1} {\\eta_2}\\right)^2 sin(\\theta_i) ^2}\n",
    "$$"
   ]
  },
  {
   "cell_type": "markdown",
   "metadata": {},
   "source": [
    "La probabilité qu'un photon soit transmis est déterminée par la différence entre l'unité et la probailité de réflection."
   ]
  },
  {
   "cell_type": "markdown",
   "metadata": {},
   "source": [
    "$$\n",
    "T(\\theta_i) = 1 - R(\\theta_i)\n",
    "$$"
   ]
  },
  {
   "cell_type": "markdown",
   "metadata": {},
   "source": [
    "### 3. Code "
   ]
  },
  {
   "cell_type": "markdown",
   "metadata": {},
   "source": [
    "Ce chapitre est consacré à la méthodologie de la modélisation du ray-tracing en un instant $t$ dans une chambre de culture avec trois lampes grâce au logiciel VTK couplé avec Python. "
   ]
  },
  {
   "cell_type": "markdown",
   "metadata": {},
   "source": [
    "Le ray-tracing est le **processus** du programme. Un **pré-processus** peut être effectué contenant les propriètes de la lampe. Celui-ci n'est pas développé dans le cas présent mais un ébauche est proposé dans le fichier XXXX.  \n",
    "Un **post-processus** peut être aussi réalisé rassemblant les informations des rayons intersectés à la plante."
   ]
  },
  {
   "cell_type": "markdown",
   "metadata": {},
   "source": [
    "- Importation des différents Packages et du script \"définition\" contenant tous les fonctions utilisées. "
   ]
  },
  {
   "cell_type": "markdown",
   "metadata": {},
   "source": [
    "Le script *définition.pynb* contient les différentes fonctions nécessaires et les commentaires associés."
   ]
  },
  {
   "cell_type": "code",
   "execution_count": 92,
   "metadata": {},
   "outputs": [],
   "source": [
    "import json\n",
    "import sys\n",
    "import vtk\n",
    "import numpy\n",
    "import random\n",
    "from definition import *\n",
    "from datetime import datetime"
   ]
  },
  {
   "cell_type": "markdown",
   "metadata": {},
   "source": [
    "- Fonctions qui permettent de convertir list/tuple en numpy et vice-versa. "
   ]
  },
  {
   "cell_type": "markdown",
   "metadata": {},
   "source": [
    "Les deux fonctions lamba permettent de convertir une liste ou un tuple en un tableau numérique et vice-versa. \n",
    "En effet, VTK utilise et génére des données telles que les coordonnées ou les vecteurs en object de type 'liste' ou 'tuple' qu'il faut convertir en objet de type 'numpy' pour effectuer des opérations vectoriels."
   ]
  },
  {
   "cell_type": "code",
   "execution_count": 93,
   "metadata": {},
   "outputs": [],
   "source": [
    "l2n = lambda l: numpy.array(l)\n",
    "n2l = lambda n: list(n)"
   ]
  },
  {
   "cell_type": "markdown",
   "metadata": {},
   "source": [
    "* Création du dictionnaire contenant les résultats\n",
    " & Début du chrono de l'exécution"
   ]
  },
  {
   "cell_type": "markdown",
   "metadata": {},
   "source": [
    "Un dictionnaire _'plant_result'_ est créé. Il stockera les informations pour le post-processing. On enregistre aussi l'heure actuelle pour calculer la durée de l'excécution du programme. "
   ]
  },
  {
   "cell_type": "code",
   "execution_count": 94,
   "metadata": {},
   "outputs": [
    {
     "name": "stdout",
     "output_type": "stream",
     "text": [
      "2020-12-28 18:07:49.674164\n"
     ]
    }
   ],
   "source": [
    "plant_result = {}\n",
    "startTime = datetime.now()\n",
    "print(startTime)"
   ]
  },
  {
   "cell_type": "markdown",
   "metadata": {},
   "source": [
    "- Lecture fichier d'entrée .json"
   ]
  },
  {
   "cell_type": "markdown",
   "metadata": {},
   "source": [
    "Le fichier d'entrée est de type json. Il fonctionne comme un dictionnaire mais permet d'être séparé du code. Cela est utile pour utiliser n'importe quel fichier de même structure dans un code. Les données des lampes et les informations de la chambre de cultures sont inscrites dans ce fichier. "
   ]
  },
  {
   "cell_type": "code",
   "execution_count": 95,
   "metadata": {},
   "outputs": [],
   "source": [
    "try:\n",
    "   with open('donnee_entree.json') as f:\n",
    "     data = json.load(f)\n",
    "except:\n",
    "   sys.exit(\"Error: enable to read file\")"
   ]
  },
  {
   "cell_type": "markdown",
   "metadata": {},
   "source": [
    "- Création de l'environnement 3D visuel"
   ]
  },
  {
   "cell_type": "markdown",
   "metadata": {},
   "source": [
    "La fonction _vtkRenderer_ permet de créer l'environnement visuel où les différents objets seront ajoutés et le processus sera représenté. La couleur blanche pour le fond est choisie. "
   ]
  },
  {
   "cell_type": "code",
   "execution_count": 96,
   "metadata": {},
   "outputs": [],
   "source": [
    "ren = vtk.vtkRenderer()\n",
    "ren.SetBackground(1, 1, 1) #(R,G,B)"
   ]
  },
  {
   "cell_type": "markdown",
   "metadata": {},
   "source": [
    "- Création de la chambre de culture"
   ]
  },
  {
   "cell_type": "markdown",
   "metadata": {},
   "source": [
    "La chambre de culture en forme de cube est conçue avec les dimensions indiquées dans le dictionnaire d'entrée Json. Il est important de souligner que l'origine des axes de ces dimensions se trouve au centre de gravité du polygone. Ainsi, par exemple pour une hauteur de 30 cm, nous aurons -15 cm et +15 cm dans l'axe Y. \n",
    "\n",
    "<img src =\"http://localhost:8889/files/Documents/image/axes_chambre.PNG?_xsrf=2%7Cbac72762%7C792301d8141d3aaeb662b9cc90fa357e%7C1606985463\" width=\"350\">"
   ]
  },
  {
   "cell_type": "code",
   "execution_count": 97,
   "metadata": {},
   "outputs": [],
   "source": [
    "xwidth = data[\"room\"][\"width\"]\n",
    "ywidth = data[\"room\"][\"height\"]\n",
    "zwidth = data[\"room\"][\"ceiling-height\"]\n",
    "cube = vtk.vtkCubeSource()\n",
    "cube.SetXLength(xwidth)\n",
    "cube.SetYLength(ywidth)\n",
    "cube.SetZLength(zwidth)\n",
    "cube.Update()"
   ]
  },
  {
   "cell_type": "markdown",
   "metadata": {},
   "source": [
    "_vtkPolyDataMapper_"
   ]
  },
  {
   "cell_type": "markdown",
   "metadata": {},
   "source": [
    "Pour pouvoir visualiser, la géométrie est transformée en primitives graphiques."
   ]
  },
  {
   "cell_type": "code",
   "execution_count": 98,
   "metadata": {},
   "outputs": [],
   "source": [
    "cubeMapper = vtk.vtkPolyDataMapper()\n",
    "cubeMapper.SetInputConnection(cube.GetOutputPort())"
   ]
  },
  {
   "cell_type": "markdown",
   "metadata": {},
   "source": [
    "_Acteur_"
   ]
  },
  {
   "cell_type": "markdown",
   "metadata": {},
   "source": [
    "La fonction _actor_ représente l'entitée géométrique. La forme cube est officiellement créée grâce à la combinaison des deux fonctions _Mapper_ et _Actor_.\n",
    "Des options comme définir sa position, sa couleur, son opacité, etc. sont possibles à ajouter."
   ]
  },
  {
   "cell_type": "code",
   "execution_count": 99,
   "metadata": {},
   "outputs": [],
   "source": [
    "cubeActor = vtk.vtkActor()\n",
    "cubeActor.SetMapper(cubeMapper)\n",
    "cubeActor.SetOrigin(0, 0, 0) \n",
    "cubeActor.GetProperty().SetOpacity(0.1)\n",
    "cubeActor.GetProperty().SetColor(0, 0, 1)\n",
    "cubeActor.GetProperty().EdgeVisibilityOn()  # show edges\n",
    "cubeActor.GetProperty().SetEdgeColor(0, 1, 0)"
   ]
  },
  {
   "cell_type": "markdown",
   "metadata": {},
   "source": [
    "L'acteur est ajouté à l'environnement virtuel _ren_ prédéfini auraparavent."
   ]
  },
  {
   "cell_type": "code",
   "execution_count": 100,
   "metadata": {},
   "outputs": [],
   "source": [
    "ren.AddActor(cubeActor)"
   ]
  },
  {
   "cell_type": "markdown",
   "metadata": {},
   "source": [
    "_OBBTree_"
   ]
  },
  {
   "cell_type": "markdown",
   "metadata": {},
   "source": [
    "La fonction *OBBTree* est une des plus importantes du code. Il permet d'indiquer que les surfaces d'un objet sont des surfaces intersectives. Autrement dit, cette fonction spécifie que ces surfaces sont les obstacles du ray-tracing."
   ]
  },
  {
   "cell_type": "code",
   "execution_count": 101,
   "metadata": {},
   "outputs": [],
   "source": [
    "obbSurface = vtk.vtkOBBTree()\n",
    "obbSurface.SetDataSet(cube.GetOutput())\n",
    "obbSurface.BuildLocator()"
   ]
  },
  {
   "cell_type": "markdown",
   "metadata": {},
   "source": [
    "On extrait les normales des surfaces grâce à la fonction *cellcenter_normal* dans le script *definition*. Ces normales seront utilisées pour les lois des réflections."
   ]
  },
  {
   "cell_type": "code",
   "execution_count": 102,
   "metadata": {},
   "outputs": [],
   "source": [
    "pointsCellCentersSurface, normalsSurface = cellcenter_normal(cube)"
   ]
  },
  {
   "cell_type": "markdown",
   "metadata": {},
   "source": [
    "- Création de la plante"
   ]
  },
  {
   "cell_type": "markdown",
   "metadata": {},
   "source": [
    "Pour simplifier dans un premier temps, une surface plane mime une plante auxquels certains rayons vont l'intersecter. La méthode est similaire que celle de la création de la chambre de culture. L'origine est le même que celle de la chambre. "
   ]
  },
  {
   "cell_type": "code",
   "execution_count": 103,
   "metadata": {},
   "outputs": [],
   "source": [
    "plant = vtk.vtkPlaneSource()\n",
    "plant.SetOrigin(-30, -75, -10)  #premier point\n",
    "plant.SetPoint1(-30, -75, 30)   #deuxième point\n",
    "plant.SetPoint2(40, -75, -10)   #troisième point\n",
    "plant.SetXResolution(15)\n",
    "plant.SetYResolution(15)\n",
    "plant.Update()\n",
    "\n",
    "plantMapper = vtk.vtkPolyDataMapper()\n",
    "plantMapper.SetInputConnection(plant.GetOutputPort())\n",
    "\n",
    "plantActor = vtk.vtkActor()\n",
    "plantActor.SetMapper(plantMapper)\n",
    "plantActor.GetProperty().SetColor(0, 1, 0)\n",
    "plantActor.GetProperty().EdgeVisibilityOn()  # show edges/wireframe\n",
    "plantActor.GetProperty().SetEdgeColor(0, 1, 0)\n",
    "\n",
    "ren.AddActor(plantActor)\n",
    "\n",
    "pointsCellCentersplante,normalsplante =cellcenter_normal(plant)"
   ]
  },
  {
   "cell_type": "markdown",
   "metadata": {},
   "source": [
    "On indique que cette surface plane est une surface intersective grâce à la fonction *ObbTree*. "
   ]
  },
  {
   "cell_type": "code",
   "execution_count": 104,
   "metadata": {},
   "outputs": [],
   "source": [
    "obbPlant = vtk.vtkOBBTree()\n",
    "obbPlant.SetDataSet(plant.GetOutput())\n",
    "obbPlant.BuildLocator()"
   ]
  },
  {
   "cell_type": "markdown",
   "metadata": {},
   "source": [
    "- Création des lampes"
   ]
  },
  {
   "cell_type": "markdown",
   "metadata": {},
   "source": [
    "La suite du code est une boucle itérative où chaque lampe est calculée individuellement. En effet, pour chaque lampe, la forme sera créée et s'en suit le processus du ray-tracing de la lampe.\n",
    "Pour des raisons de clareté, la boucle est scindée en plusieurs paragraphes pour pouvoir de manière plus explicite, commenter les étapes. Le code de la boucle complet se trouve à la fin de ces explications et peut être exécuté."
   ]
  },
  {
   "cell_type": "markdown",
   "metadata": {},
   "source": [
    "En fonction de son angle d'ouverture, la lampe est représentée comme une portion de la sphére. Dans le cas présent, les lampes ont un angle d'ouverture de 180°, la forme sera une demi-sphére. La méthode est similaire aux deux objets précédents. Il est important de rappeler que l'origine est située au centre du cube. La localisation de la lampe est référencée à cette origine, comme la localisation de la plante."
   ]
  },
  {
   "cell_type": "markdown",
   "metadata": {},
   "source": [
    "La résolution de la lampe est intéressante car, en plus d'arrondir au mieux la demi-sphére, le maillage de la lampe va permettre le lancer des rayons. C'est à partir des points centraux des cellules du maillage que les rayons démarrent leurs trajectoires du ray-tracing. Plus la résolution est grande, plus le nombre de cellule du maillage est élevé, plus le nombre de rayons lancés est importante."
   ]
  },
  {
   "cell_type": "raw",
   "metadata": {},
   "source": [
    "v = 0\n",
    "i = 1\n",
    "while v < 3:\n",
    " x = data[\"array\"][str(v)][\"x\"] #par rapport à l'origine qui est au centre du cube\n",
    " y = data[\"array\"][str(v)][\"y\"]\n",
    " z = data[\"array\"][str(v)][\"z\"]\n",
    "\n",
    " Lamp = vtk.vtkSphereSource()\n",
    " Lamp.SetCenter(x, y, z)\n",
    " Lamp.SetRadius(5)\n",
    " angle_ouverture = data[\"array\"][str(v)][\"angle\"]\n",
    " angle = 180 - angle_ouverture\n",
    " Lamp.SetStartTheta(180 + angle/2)\n",
    " Lamp.SetEndTheta(360 - angle/2)\n",
    " Lamp.SetPhiResolution(30)\n",
    " Lamp.SetThetaResolution(30)\n",
    "\n",
    " mapper = vtk.vtkPolyDataMapper()\n",
    " mapper.SetInputConnection(Lamp.GetOutputPort())\n",
    "\n",
    " pointActor = vtk.vtkActor()\n",
    " pointActor.SetMapper(mapper)\n",
    " pointActor.SetOrigin(0, 0, 0) \n",
    " pointActor.GetProperty().SetColor(color(data[\"array\"][str(v)][\"wavelength\"]))\n",
    " pointActor.GetProperty().EdgeVisibilityOn()  # show edges/wireframe\n",
    " pointActor.GetProperty().SetEdgeColor(color(data[\"array\"][str(v)][\"wavelength\"]))\n",
    "\n",
    " ren.AddActor(pointActor)"
   ]
  },
  {
   "cell_type": "markdown",
   "metadata": {},
   "source": [
    "La figure suivante montre un aperçu de l'environnement crée avec la plante et les trois lampes. "
   ]
  },
  {
   "cell_type": "markdown",
   "metadata": {},
   "source": [
    "<img src =\"http://localhost:8889/files/Documents/image/axes.PNG?_xsrf=2%7Cbac72762%7C792301d8141d3aaeb662b9cc90fa357e%7C1606985463\" width=\"350\">"
   ]
  },
  {
   "cell_type": "markdown",
   "metadata": {},
   "source": [
    "*Points des cellules et normales des lampes*"
   ]
  },
  {
   "cell_type": "markdown",
   "metadata": {},
   "source": [
    "Les coordonnées des points pour chaque cellule du maillage de la lampe sont calculées et le point zero qui correspond au centre de la cellule est extrait. On extrait également les normales des lampes."
   ]
  },
  {
   "cell_type": "raw",
   "metadata": {},
   "source": [
    " pointsCellCentersLamp,normalsLamp =cellcenter_normal(Lamp)"
   ]
  },
  {
   "cell_type": "markdown",
   "metadata": {},
   "source": [
    "- Ray-tracing"
   ]
  },
  {
   "cell_type": "markdown",
   "metadata": {},
   "source": [
    "L'étape suivante du code démarre le processus du ray-tracing et est une boucle. En effet, chaque rayon et sa trajectoire, un à la fois, sont créés pour chaque lampe."
   ]
  },
  {
   "cell_type": "markdown",
   "metadata": {},
   "source": [
    "Pour chaque points centraux du maillage de la lampe, ce point et la normale associée sont extraits en variable. "
   ]
  },
  {
   "cell_type": "raw",
   "metadata": {},
   "source": [
    " for idx in range(pointsCellCentersLamp.GetNumberOfPoints()):\n",
    "   pointLamp = pointsCellCentersLamp.GetPoint(idx)\n",
    "   normalLamp = normalsLamp.GetTuple(idx)"
   ]
  },
  {
   "cell_type": "markdown",
   "metadata": {},
   "source": [
    "Les coordonnées du point terminal du rayon est calculé en prolongeant la normale d'un facteur de 100 à partir du point central de la cellule étudiée. Le choix du facteur 100 est justifié par la certitude que le rayon soit suffisamment long pour atteindre les parois ou la plante. "
   ]
  },
  {
   "cell_type": "raw",
   "metadata": {},
   "source": [
    "   pointRayTarget = n2l(l2n(pointLamp) + 100*l2n(normalLamp))"
   ]
  },
  {
   "cell_type": "markdown",
   "metadata": {},
   "source": [
    "Grâce aux fonctions préalablement définies dans le fichier *définitions*, la fonction *IntersectWithLine* qui est couplée avec la fonction *obbTree* permettent de détecter les intersections des rayons aux surfaces de la parois et à la plante."
   ]
  },
  {
   "cell_type": "markdown",
   "metadata": {},
   "source": [
    "*Intersection avec la plante*"
   ]
  },
  {
   "cell_type": "markdown",
   "metadata": {},
   "source": [
    "Si une intersection avec la plante est trouvée, on extrait le numéro du point de la cellule (point incident) et ses coordonnées. Le rayon est dessiné pour la visualisation."
   ]
  },
  {
   "cell_type": "raw",
   "metadata": {},
   "source": [
    " if isHit(obbPlant, pointLamp, pointRayTarget):  # intersections were found\n",
    "        ptsInter, cIdsInter = GetIntersect(obbPlant, pointLamp, pointRayTarget) "
   ]
  },
  {
   "cell_type": "markdown",
   "metadata": {},
   "source": [
    "La normale de ce point est prélevée et le vecteur incident est mesuré. La variable X permet de déduire si le rayon est réfléchi ou transmis selon les probablités détermininées selon les coefficients de Fresnel. "
   ]
  },
  {
   "cell_type": "raw",
   "metadata": {},
   "source": [
    "       normalplante = normalsplante.GetTuple(cIdsInter[0])\n",
    "       vecInc = n2l(l2n(pointRayTarget) - l2n(pointLamp))\n",
    "       X = Fresnel(data[\"room\"][\"n_air\"],data[\"room\"][\"n_plante\"],vecInc, normalplante)"
   ]
  },
  {
   "cell_type": "markdown",
   "metadata": {},
   "source": [
    "Si le rayon est transmis dans la plante, par conséquent l'énergie lumineuse est absorbée dans la matière, il est intéressant de récolter divers données pour le post-processing. Dans le cas contraire, le rayon est réfléchi et donc aucune énergie lumineuse est absorbée dans la plante.\n",
    "\n",
    "Des informations comme les coordonnées *ptsInter*, le numéro de la lampe correspondant *v* ou encore le rayonnement sont enregistrées dans le dictionnaire *plant_result* créé au préalable. On crée une clé avec la numéro de la cellule intersectée. Si ce numéro a déjà été enregistré dans le dictionnaire, on enregistre les informations du rayon intersecté *i* dans la clé. Si ce numéro n'existait pas encore, on l'ajoute dans le dictionnaire."
   ]
  },
  {
   "cell_type": "raw",
   "metadata": {},
   "source": [
    "        if X[0] == \"T\" :\n",
    "          addLine(ren, pointLamp, ptsInter[0], color(data[\"array\"][str(v)][\"wavelength\"]))\n",
    "          addPoint(ren, ptsInter[0], color(data[\"array\"][str(v)][\"wavelength\"]))\n",
    "          key = \"surface_\"+str(cIdsInter[0])\n",
    "          \n",
    "          if key in plant_result: \n",
    "              plant_result[\"surface_\"+str(cIdsInter[0])]['coord'][i] = ptsInter[0]\n",
    "              plant_result[\"surface_\"+str(cIdsInter[0])]['lampe'][i] = v\n",
    "              i+=1\n",
    "              \n",
    "             \n",
    "          else:\n",
    "             plant_result.update({\"surface_\"+str(cIdsInter[0]):{\"coord\":{},\"lampe\":{}}})\n",
    "             plant_result[\"surface_\"+str(cIdsInter[0])]['coord'][i]= ptsInter[0]\n",
    "             plant_result[\"surface_\"+str(cIdsInter[0])]['lampe'][i] = v\n",
    "             i+=1"
   ]
  },
  {
   "cell_type": "markdown",
   "metadata": {},
   "source": [
    "*Intersection avec la parois*"
   ]
  },
  {
   "cell_type": "markdown",
   "metadata": {},
   "source": [
    "Si une intersection avec la parois est trouvée, on extrait le numéro du point de la cellule (point incident) et ses coordonnées. Le rayon est dessiné pour la visualisation. "
   ]
  },
  {
   "cell_type": "raw",
   "metadata": {},
   "source": [
    "   if isHit(obbSurface, pointLamp, pointRayTarget): \n",
    "        pointsInter, cellIdsInter = GetIntersect(obbSurface, pointLamp, pointRayTarget)\n",
    "        addLine(ren, pointLamp, pointsInter[0], color(data[\"array\"][str(v)][\"wavelength\"]), opacity = 0.1)\n",
    "        addPoint(ren, pointsInter[0], color(data[\"array\"][str(v)][\"wavelength\"]), opacity = 0.1)"
   ]
  },
  {
   "cell_type": "markdown",
   "metadata": {},
   "source": [
    "La normale de ce point est prélevée et le vecteur incident est mesuré. La variable X permet de déduire si le rayon est réfléchi ou transmis selon les probablités détermininées selon les coefficients de Fresnel.  "
   ]
  },
  {
   "cell_type": "raw",
   "metadata": {},
   "source": [
    "        normalSurface = normalsSurface.GetTuple(cellIdsInter[0])\n",
    "        vecInc = n2l(l2n(pointRayTarget) - l2n(pointLamp))\n",
    "        #vecRef = calcVecR(vecInc, normalSurface)\n",
    " \n",
    "        X =Fresnel(data[\"room\"][\"n_air\"],data[\"room\"][\"n_paroi\"],vecInc, normalSurface)"
   ]
  },
  {
   "cell_type": "markdown",
   "metadata": {},
   "source": [
    "Si le rayon est réfléchi, la direction de celui-ci est choisi aléatoirement. En effet, le point d'incidence est réprésenté par une sphère. Un point central d'une cellule du maillage de cette sphère est tiré aléatoirement et la normale de ce point sera la vecteur réfléchi. Un nouveau point terminal de ce rayon réfléchi est déterminé. \n",
    "\n",
    "Dans le cas contraire, si le rayon est transmis dans la paroi, par conséquent l'énergie lumineuse est absorbée dans la matière, il n'y a pas de réflection de la lumière dans la chambre."
   ]
  },
  {
   "cell_type": "raw",
   "metadata": {},
   "source": [
    "        if X[0] == \"R\":\n",
    "            pointsCellCenterspoint, normalspoint =cellcenter_normal(point)\n",
    "            m = random.choice(range(pointsCellCenterspoint.GetNumberOfPoints()))\n",
    "            vecRef = normalspoint.GetTuple(m)\n",
    "            \n",
    "               \n",
    "            pointRayReflectedTarget = n2l(l2n(pointsInter[0]) + 100*l2n(vecRef))"
   ]
  },
  {
   "cell_type": "markdown",
   "metadata": {},
   "source": [
    "Mettons en évidence la faiblesse de cette partie du code. En effet, le point incident est réprésenté par une sphère et la normale choisi aléatoirement peut être une qui est dans le milieu de transmission. Dans ce cas, nous n'avons pas un rayon réfléchi. Le problème peut être résolu en schématisant le point incident comme une demi-sphère. Cependant, l'orientation de la demi-sphère varie selon la paroi de la chambre de culture. A ce jour, une méthode pour éviter de produire un rayon réfléchi dans le milieu de transmission n'a pas encore été trouvée. "
   ]
  },
  {
   "cell_type": "markdown",
   "metadata": {},
   "source": [
    "*Réflection*"
   ]
  },
  {
   "cell_type": "markdown",
   "metadata": {},
   "source": [
    "Il est possible de détecter l'intersection du rayon réfléchi avec soit la plante soit la parois. La méthode est similaire que le premier lancer d'un rayon de la lampe. "
   ]
  },
  {
   "cell_type": "raw",
   "metadata": {},
   "source": [
    "    try :          \n",
    "     if isHit(obbSurface,  pointsInter[0], pointRayReflectedTarget): \n",
    "          \n",
    "           pointsInter, cellIdsInter = GetIntersect(obbSurface,  pointsInter[0], pointRayReflectedTarget)\n",
    "           addLine(ren, pointsInter[0], pointsInter[1], color(data[\"array\"][str(v)][\"wavelength\"]),opacity=1)\n",
    "           addPoint(ren, pointsInter[1], color(data[\"array\"][str(v)][\"wavelength\"]), opacity =0.1)\n",
    "\n",
    "     if isHit(obbPlant, pointsInter[0], pointRayReflectedTarget):  \n",
    "           ptsInter, cIdsInter = GetIntersect(obbPlant,  pointsInter[0], pointRayReflectedTarget)\n",
    "           \n",
    "           normalplante = normalsplante.GetTuple(cIdsInter[0])\n",
    "           vecInc = n2l(l2n(pointRayReflectedTarget) - l2n(pointsInter[0]))\n",
    "           \n",
    "           X =Fresnel(data[\"room\"][\"n_air\"],data[\"room\"][\"n_plante\"],vecInc, normalSurface)\n",
    "        \n",
    "           if X[0] ==\"T\": \n",
    "               addLine(ren, pointsInter[0], ptsInter[0], color(data[\"array\"][str(v)][\"wavelength\"]))\n",
    "               addPoint(ren, ptsInter[0], color(data[\"array\"][str(v)][\"wavelength\"]))\n",
    "       \n",
    "               key = \"surface_\"+str(cIdsInter[0])\n",
    "        \n",
    "               if key in plant_result: \n",
    "                   plant_result[\"surface_\"+str(cIdsInter[0])]['coord'][i] = ptsInter[0]\n",
    "                   plant_result[\"surface_\"+str(cIdsInter[0])]['lampe'][i] = v\n",
    "                   i+=1\n",
    "            \n",
    "             \n",
    "               else:\n",
    "                   plant_result.update({\"surface_\"+str(cIdsInter[0]):{\"coord\":{},\"Rayonnement\":{},\"lampe\":{}}})\n",
    "                   plant_result[\"surface_\"+str(cIdsInter[0])]['coord'][i]= ptsInter[0]\n",
    "                   plant_result[\"surface_\"+str(cIdsInter[0])]['lampe'][i] = v\n",
    "                   i+= 1\n",
    "     \n",
    "    except:\n",
    "       a = 0 "
   ]
  },
  {
   "cell_type": "markdown",
   "metadata": {},
   "source": [
    "Il est intéressant de réfléchir à une boucle pour effectuer plusieurs réfléctions.\n",
    "Il est à nuancer aussi avec la limite de réfléxion où la quantité de lumière devient négligeable. "
   ]
  },
  {
   "cell_type": "markdown",
   "metadata": {},
   "source": [
    "*Le code complet de la boucle*"
   ]
  },
  {
   "cell_type": "code",
   "execution_count": 105,
   "metadata": {},
   "outputs": [],
   "source": [
    "v = 0\n",
    "i = 1\n",
    "while v < 3:\n",
    " x = data[\"array\"][str(v)][\"x\"] #par rapport à l'origine qui est au centre du cube\n",
    " y = data[\"array\"][str(v)][\"y\"]\n",
    " z = data[\"array\"][str(v)][\"z\"]\n",
    "\n",
    " Lamp = vtk.vtkSphereSource()\n",
    " Lamp.SetCenter(x, y, z)\n",
    " Lamp.SetRadius(5)\n",
    " angle_ouverture = data[\"array\"][str(v)][\"angle\"]\n",
    " angle = 180 - angle_ouverture\n",
    " Lamp.SetStartTheta(180 + angle/2)\n",
    " Lamp.SetEndTheta(360 - angle/2)\n",
    " Lamp.SetPhiResolution(20)\n",
    " Lamp.SetThetaResolution(20)\n",
    "\n",
    " mapper = vtk.vtkPolyDataMapper()\n",
    " mapper.SetInputConnection(Lamp.GetOutputPort())\n",
    "\n",
    " pointActor = vtk.vtkActor()\n",
    " pointActor.SetMapper(mapper)\n",
    " pointActor.SetOrigin(0, 0, 0) \n",
    " pointActor.GetProperty().SetColor(color(data[\"array\"][str(v)][\"wavelength\"]))\n",
    " pointActor.GetProperty().EdgeVisibilityOn()  # show edges/wireframe\n",
    " pointActor.GetProperty().SetEdgeColor(color(data[\"array\"][str(v)][\"wavelength\"]))\n",
    "\n",
    " ren.AddActor(pointActor)\n",
    "\n",
    " pointsCellCentersLamp,normalsLamp =cellcenter_normal(Lamp)\n",
    "\n",
    "# #-----------------------------------------------------------------------------\n",
    "# # RAY-TRACING\n",
    "# #----------------------------------------------------------------------------\n",
    "\n",
    " for idx in range(pointsCellCentersLamp.GetNumberOfPoints()):\n",
    "\n",
    "    pointLamp = pointsCellCentersLamp.GetPoint(idx)\n",
    "    normalLamp = normalsLamp.GetTuple(idx)\n",
    "    \n",
    "    pointRayTarget = n2l(l2n(pointLamp) + 500*l2n(normalLamp))           \n",
    "  \n",
    "    if isHit(obbPlant, pointLamp, pointRayTarget):  \n",
    "        ptsInter, cIdsInter = GetIntersect(obbPlant, pointLamp, pointRayTarget)\n",
    "        \n",
    "        normalplante = normalsplante.GetTuple(cIdsInter[0])\n",
    "        vecInc = n2l(l2n(ptsInter[0]) - l2n(pointLamp))\n",
    "        \n",
    "        X = Fresnel(data[\"room\"][\"n_air\"],data[\"room\"][\"n_plante\"],vecInc, normalplante)\n",
    "        if X[0] == \"T\" :  \n",
    "             addLine(ren, pointLamp, ptsInter[0], color(data[\"array\"][str(v)][\"wavelength\"]))\n",
    "             addPoint(ren, ptsInter[0], color(data[\"array\"][str(v)][\"wavelength\"]))\n",
    "            \n",
    "             key = \"surface_\"+str(cIdsInter[0])\n",
    "          \n",
    "             if key in plant_result: \n",
    "                plant_result[\"surface_\"+str(cIdsInter[0])]['coord'][i] = ptsInter[0]\n",
    "                plant_result[\"surface_\"+str(cIdsInter[0])]['lampe'][i] = v\n",
    "                i+=1\n",
    "                 \n",
    "             else:\n",
    "                plant_result.update({\"surface_\"+str(cIdsInter[0]):{\"coord\":{},\"lampe\":{}}})\n",
    "                plant_result[\"surface_\"+str(cIdsInter[0])]['coord'][i]= ptsInter[0]\n",
    "                plant_result[\"surface_\"+str(cIdsInter[0])]['lampe'][i] = v\n",
    "                i+=1\n",
    "    \n",
    "    if isHit(obbSurface, pointLamp, pointRayTarget): \n",
    " \n",
    "        pointsInter, cellIdsInter = GetIntersect(obbSurface, pointLamp, pointRayTarget)\n",
    "        \n",
    "        normalSurface = normalsSurface.GetTuple(cellIdsInter[0])\n",
    "        vecInc = n2l(l2n(pointsInter[0]) - l2n(pointLamp))\n",
    "        #vecRef = calcVecR(vecInc, normalSurface)\n",
    " \n",
    "        X =Fresnel(data[\"room\"][\"n_air\"],data[\"room\"][\"n_paroi\"],vecInc, normalSurface)\n",
    "        if X[0] == \"R\":\n",
    "            addLine(ren, pointLamp, pointsInter[0], color(data[\"array\"][str(v)][\"wavelength\"]), opacity = 0.1)\n",
    "            point = addPoint(ren, pointsInter[0], color(data[\"array\"][str(v)][\"wavelength\"]), opacity = 0.1)\n",
    "            pointsCellCenterspoint, normalspoint =cellcenter_normal(point)\n",
    "            m = random.choice(range(pointsCellCenterspoint.GetNumberOfPoints()))\n",
    "            vecRef = normalspoint.GetTuple(m)\n",
    "            \n",
    "            pointRayReflectedTarget = n2l(l2n(pointsInter[0]) + 100*l2n(vecRef))\n",
    "                \n",
    "    try :          \n",
    "      if isHit(obbSurface,  pointsInter[0], pointRayReflectedTarget): \n",
    "          \n",
    "            pointsInter, cellIdsInter = GetIntersect(obbSurface,  pointsInter[0], pointRayReflectedTarget)\n",
    "     \n",
    "            addLine(ren, pointsInter[0], pointsInter[1], color(data[\"array\"][str(v)][\"wavelength\"]),opacity=0.1)\n",
    "            addPoint(ren, pointsInter[1], color(data[\"array\"][str(v)][\"wavelength\"]), opacity =0.1)\n",
    "         \n",
    "      if isHit(obbPlant, pointsInter[0], pointRayReflectedTarget):  \n",
    "            ptsInter, cIdsInter = GetIntersect(obbPlant,  pointsInter[0], pointRayReflectedTarget) \n",
    "            \n",
    "            normalplante = normalsplante.GetTuple(cIdsInter[0])\n",
    "            vecInc = n2l(l2n(pointRayReflectedTarget) - l2n(ptsInter[0]))\n",
    "        \n",
    "            X =Fresnel(data[\"room\"][\"n_air\"],data[\"room\"][\"n_plante\"],vecInc, normalplante)\n",
    "        \n",
    "            if X[0] ==\"T\": \n",
    "                \n",
    "                addLine(ren, pointsInter[0], ptsInter[0], color(data[\"array\"][str(v)][\"wavelength\"]))\n",
    "                addPoint(ren, ptsInter[0], color(data[\"array\"][str(v)][\"wavelength\"]))  \n",
    "                \n",
    "                key = \"surface_\"+str(cIdsInter[0])\n",
    "        \n",
    "                if key in plant_result: \n",
    "                  plant_result[\"surface_\"+str(cIdsInter[0])]['coord'][i] = ptsInter[0]\n",
    "                  plant_result[\"surface_\"+str(cIdsInter[0])]['lampe'][i] = v\n",
    "                  i+=1\n",
    "    \n",
    "                else:\n",
    "                 plant_result.update({\"surface_\"+str(cIdsInter[0]):{\"coord\":{},\"lampe\":{}}})\n",
    "                 plant_result[\"surface_\"+str(cIdsInter[0])]['coord'][i]= ptsInter[0]\n",
    "                 plant_result[\"surface_\"+str(cIdsInter[0])]['lampe'][i] = v\n",
    "                 i+= 1\n",
    "     \n",
    "    except:\n",
    "       a = 0\n",
    "\n",
    " v+=1 "
   ]
  },
  {
   "cell_type": "markdown",
   "metadata": {},
   "source": [
    "- Résultat"
   ]
  },
  {
   "cell_type": "markdown",
   "metadata": {},
   "source": [
    "*Nombres de rayons*"
   ]
  },
  {
   "cell_type": "code",
   "execution_count": 106,
   "metadata": {},
   "outputs": [
    {
     "name": "stdout",
     "output_type": "stream",
     "text": [
      "16 rayons ont atteint la plante\n",
      "Chaque lampe a émis 719 rayons\n"
     ]
    }
   ],
   "source": [
    "print(str(i-1)+\" rayons ont atteint la plante\" )\n",
    "print(\"Chaque lampe a émis \"+str(idx)+\" rayons\")"
   ]
  },
  {
   "cell_type": "markdown",
   "metadata": {},
   "source": [
    "*Durée de l'exécution*"
   ]
  },
  {
   "cell_type": "markdown",
   "metadata": {},
   "source": [
    "Grâce au temps enregistré au début du code et à la fin, la durée de l'exécution est obtenue."
   ]
  },
  {
   "cell_type": "code",
   "execution_count": 107,
   "metadata": {},
   "outputs": [
    {
     "name": "stdout",
     "output_type": "stream",
     "text": [
      "Completed in 0:00:03.051274\n"
     ]
    }
   ],
   "source": [
    "endTime = datetime.now()\n",
    "deltaTime = endTime - startTime\n",
    "print(\"Completed in \"+str(deltaTime))"
   ]
  },
  {
   "cell_type": "markdown",
   "metadata": {},
   "source": [
    "_Comparaison des temps d'exécution en fonction du nombres de rayons._"
   ]
  },
  {
   "cell_type": "markdown",
   "metadata": {},
   "source": [
    "|Résolution de la lampe|Nombres de rayons|Temps d'exécution sur JupyterLab| Temps d'exécution sur Python (local)|\n",
    "|----------------------|-----------------|--------------------------------|-------------------------------------|\n",
    "|         10           |       159       |         0:00:02.919645         |            0:00:00.712960           |\n",
    "|         20           |       719       |         0:00:06.680457         |            0:00:02.941227           |\n",
    "|         30           |       1679      |         0:00:23.673360         |            0:00:15.157795\n",
    "|         50           |       4799      |         0:00:25.980488         | \n",
    "|         100          |       1679      |         0:00:06.263835         | "
   ]
  },
  {
   "cell_type": "markdown",
   "metadata": {},
   "source": [
    "*Fichier de sortie*"
   ]
  },
  {
   "cell_type": "markdown",
   "metadata": {},
   "source": [
    "Les résultats du ray-tracing sont obtenus dans le dictionnaire _plant_result_. Ce dictionnaire est converti en un fichier externe .json afin de pouvoir l'utiliser pour un éventuel post-processing plus avancé. "
   ]
  },
  {
   "cell_type": "code",
   "execution_count": 108,
   "metadata": {},
   "outputs": [],
   "source": [
    "with open(\"out_lamp.json\", \"w\") as f:\n",
    "        json.dump(plant_result, f,indent= 8)"
   ]
  },
  {
   "cell_type": "markdown",
   "metadata": {},
   "source": [
    "*Visualisation*"
   ]
  },
  {
   "cell_type": "markdown",
   "metadata": {},
   "source": [
    "Il est possible de visualiser la scéne et le processus du ray-tracing. Malheureusement, il est seulement possible d'exécuter ces lignes de code sur un ordinateur local (et non sur NoteBook). Néanmoins, la figure suivante montre un aperçu du résultat."
   ]
  },
  {
   "cell_type": "markdown",
   "metadata": {},
   "source": [
    "<img src =\"http://localhost:8889/files/Documents/image/exemple_ray_tracing.PNG?_xsrf=2%7Cbac72762%7C792301d8141d3aaeb662b9cc90fa357e%7C1606985463\" width=\"500\">"
   ]
  },
  {
   "cell_type": "code",
   "execution_count": 109,
   "metadata": {},
   "outputs": [],
   "source": [
    "#renWin = vtk.vtkRenderWindow()\n",
    "#renWin.AddRenderer(ren)\n",
    "\n",
    "#iren = vtk.vtkRenderWindowInteractor()\n",
    "#iren.SetRenderWindow(renWin)\n",
    "\n",
    "#iren.Initialize()\n",
    "#renWin.Render()\n",
    "#iren.Start()"
   ]
  },
  {
   "cell_type": "markdown",
   "metadata": {},
   "source": [
    "### 4. Conclusions et perspectives\n",
    "\n",
    "- indice qui dépendent de la longueur d'onde"
   ]
  }
 ],
 "metadata": {
  "kernelspec": {
   "display_name": "Python 3",
   "language": "python",
   "name": "python3"
  },
  "language_info": {
   "codemirror_mode": {
    "name": "ipython",
    "version": 3
   },
   "file_extension": ".py",
   "mimetype": "text/x-python",
   "name": "python",
   "nbconvert_exporter": "python",
   "pygments_lexer": "ipython3",
   "version": "3.7.9"
  }
 },
 "nbformat": 4,
 "nbformat_minor": 4
}
