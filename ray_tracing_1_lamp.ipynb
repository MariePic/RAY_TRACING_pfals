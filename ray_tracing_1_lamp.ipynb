{
 "cells": [
  {
   "cell_type": "markdown",
   "metadata": {},
   "source": [
    "Ray-tracing des rayons venant d'une lampe dans un chambre de culture"
   ]
  },
  {
   "cell_type": "markdown",
   "metadata": {},
   "source": [
    "Importation des différents Packages et du script \"définition\" contenant tous les fonctions utilisées. "
   ]
  },
  {
   "cell_type": "code",
   "execution_count": null,
   "metadata": {},
   "outputs": [],
   "source": [
    "import json\n",
    "import sys\n",
    "import vtk\n",
    "import numpy\n",
    "from definition import *\n",
    "from datetime import datetime"
   ]
  },
  {
   "cell_type": "markdown",
   "metadata": {},
   "source": [
    "Fonctions qui permettent de convertir list en numpy et vice-versa. "
   ]
  },
  {
   "cell_type": "code",
   "execution_count": null,
   "metadata": {},
   "outputs": [],
   "source": [
    "l2n = lambda l: numpy.array(l)\n",
    "n2l = lambda n: list(n)"
   ]
  },
  {
   "cell_type": "markdown",
   "metadata": {},
   "source": [
    "Création du dictionnaire contenant les résultats\n",
    "Début du chrono de l'exécution"
   ]
  },
  {
   "cell_type": "code",
   "execution_count": null,
   "metadata": {},
   "outputs": [],
   "source": [
    "plant_result = {}\n",
    "startTime = datetime.now()"
   ]
  },
  {
   "cell_type": "markdown",
   "metadata": {},
   "source": [
    "lecture fichier d'entrée .json contenant les données des lampes et de la chambre de culture"
   ]
  },
  {
   "cell_type": "code",
   "execution_count": null,
   "metadata": {},
   "outputs": [],
   "source": [
    "try:\n",
    "   with open('donnee_entree.json') as f:\n",
    "     data = json.load(f)\n",
    "except:\n",
    "   sys.exit(\"Error: enable to read file\")"
   ]
  },
  {
   "cell_type": "markdown",
   "metadata": {},
   "source": [
    "Création de l'environnement 3D virtuel avec Renderer et fond blanc"
   ]
  },
  {
   "cell_type": "code",
   "execution_count": null,
   "metadata": {},
   "outputs": [],
   "source": [
    "ren = vtk.vtkRenderer()\n",
    "ren.SetBackground(1, 1, 1) #(R,G,B)"
   ]
  },
  {
   "cell_type": "markdown",
   "metadata": {},
   "source": [
    "Création de la chambre de culture en Cube "
   ]
  },
  {
   "cell_type": "code",
   "execution_count": null,
   "metadata": {},
   "outputs": [],
   "source": [
    "xwidth = data[\"room\"][\"width\"]\n",
    "ywidth = data[\"room\"][\"height\"]\n",
    "zwidth = data[\"room\"][\"ceiling-height\"]\n",
    "cube = vtk.vtkCubeSource()\n",
    "cube.SetXLength(xwidth)\n",
    "cube.SetYLength(ywidth)\n",
    "cube.SetZLength(zwidth)\n",
    "cube.Update()"
   ]
  },
  {
   "cell_type": "markdown",
   "metadata": {},
   "source": [
    "Transformation de la géométrie en primitives graphiques"
   ]
  },
  {
   "cell_type": "code",
   "execution_count": null,
   "metadata": {},
   "outputs": [],
   "source": [
    "cubeMapper = vtk.vtkPolyDataMapper()\n",
    "cubeMapper.SetInputConnection(cube.GetOutputPort())"
   ]
  },
  {
   "cell_type": "markdown",
   "metadata": {},
   "source": [
    "L'acteur représente l'entitée géométrique.\n",
    "Il permet de définir sa position, son orientation, sa couleur, etc."
   ]
  },
  {
   "cell_type": "code",
   "execution_count": null,
   "metadata": {},
   "outputs": [],
   "source": [
    "cubeActor = vtk.vtkActor()\n",
    "cubeActor.SetMapper(cubeMapper)\n",
    "cubeActor.SetOrigin(0, 0, 0) #?????\n",
    "cubeActor.GetProperty().SetOpacity(0.1)\n",
    "cubeActor.GetProperty().SetColor(0, 0, 1)\n",
    "cubeActor.GetProperty().EdgeVisibilityOn()  # show edges/wireframe\n",
    "cubeActor.GetProperty().SetEdgeColor(0, 1, 0)"
   ]
  },
  {
   "cell_type": "markdown",
   "metadata": {},
   "source": [
    "Ajout de l'acteur à l'environnement virtuel"
   ]
  },
  {
   "cell_type": "code",
   "execution_count": null,
   "metadata": {},
   "outputs": [],
   "source": [
    "ren.AddActor(cubeActor)"
   ]
  },
  {
   "cell_type": "code",
   "execution_count": null,
   "metadata": {},
   "outputs": [],
   "source": [
    "# indiquer que ce sera des surfaces interscetions \n",
    "obbSurface = vtk.vtkOBBTree()\n",
    "obbSurface.SetDataSet(cube.GetOutput())\n",
    "obbSurface.BuildLocator()"
   ]
  },
  {
   "cell_type": "code",
   "execution_count": null,
   "metadata": {},
   "outputs": [],
   "source": [
    "# Création de 'vtkPolyDataNormals' et le connecter au cube\n",
    "normalsCalcSurface = vtk.vtkPolyDataNormals()\n",
    "normalsCalcSurface.SetInputConnection(cube.GetOutputPort())\n",
    "\n",
    "# Disable normal calculation at cell vertices\n",
    "normalsCalcSurface.ComputePointNormalsOff()\n",
    "# Enable normal calculation at cell centers\n",
    "normalsCalcSurface.ComputeCellNormalsOn()\n",
    "# Disable splitting of sharp edges\n",
    "normalsCalcSurface.SplittingOff()\n",
    "# Disable global flipping of normal orientation\n",
    "normalsCalcSurface.FlipNormalsOff()\n",
    "# Enable automatic determination of correct normal orientation\n",
    "normalsCalcSurface.AutoOrientNormalsOn()\n",
    "# Perform calculation\n",
    "normalsCalcSurface.Update()"
   ]
  },
  {
   "cell_type": "code",
   "execution_count": null,
   "metadata": {},
   "outputs": [],
   "source": [
    "# plante\n",
    "plant = vtk.vtkPlaneSource()\n",
    "plant.SetOrigin(-30, -75, -10)  #premier point\n",
    "plant.SetPoint1(-30, -75, 30)   #deuxième point\n",
    "plant.SetPoint2(40, -75, -10)   #troisième point\n",
    "plant.SetXResolution(15)\n",
    "plant.SetYResolution(15)\n",
    "plant.Update()\n",
    "\n",
    "plantMapper = vtk.vtkPolyDataMapper()\n",
    "plantMapper.SetInputConnection(plant.GetOutputPort())\n",
    "\n",
    "plantActor = vtk.vtkActor()\n",
    "plantActor.SetMapper(plantMapper)\n",
    "plantActor.GetProperty().SetColor(0, 1, 0)\n",
    "plantActor.GetProperty().EdgeVisibilityOn()  # show edges/wireframe\n",
    "plantActor.GetProperty().SetEdgeColor(0, 1, 0)\n",
    "\n",
    "ren.AddActor(plantActor)"
   ]
  },
  {
   "cell_type": "code",
   "execution_count": null,
   "metadata": {},
   "outputs": [],
   "source": [
    "# indiquer que ce sera des surfaces interscetions \n",
    "obbPlant = vtk.vtkOBBTree()\n",
    "obbPlant.SetDataSet(plant.GetOutput())\n",
    "obbPlant.BuildLocator()"
   ]
  },
  {
   "cell_type": "code",
   "execution_count": null,
   "metadata": {},
   "outputs": [],
   "source": [
    "v=0\n",
    "\n",
    "x = data[\"array\"][str(v)][\"x\"] #par rapport à l'origine qui est au centre du cube\n",
    "y = data[\"array\"][str(v)][\"y\"]\n",
    "z = data[\"array\"][str(v)][\"z\"]\n",
    "\n",
    "Lamp = vtk.vtkSphereSource()\n",
    "Lamp.SetCenter(x, y, z)\n",
    "Lamp.SetRadius(5)\n",
    "Lamp.SetStartTheta(data[\"array\"][str(v)][\"angle\"])\n",
    "Lamp.SetPhiResolution(30)\n",
    "Lamp.SetThetaResolution(30)\n",
    "\n",
    "mapper = vtk.vtkPolyDataMapper()\n",
    "mapper.SetInputConnection(Lamp.GetOutputPort())\n",
    "\n",
    "pointActor = vtk.vtkActor()\n",
    "pointActor.SetMapper(mapper)\n",
    "pointActor.SetOrigin(0, 0, 0) \n",
    "pointActor.GetProperty().SetColor(color(data[\"array\"][str(v)][\"wavelength\"]))\n",
    "pointActor.GetProperty().EdgeVisibilityOn()  # show edges/wireframe\n",
    "pointActor.GetProperty().SetEdgeColor(color(data[\"array\"][str(v)][\"wavelength\"]))\n",
    "\n",
    "ren.AddActor(pointActor)"
   ]
  },
  {
   "cell_type": "code",
   "execution_count": null,
   "metadata": {},
   "outputs": [],
   "source": [
    "cellCenterCalcLamp = vtk.vtkCellCenters()\n",
    "cellCenterCalcLamp.SetInputConnection(Lamp.GetOutputPort())\n",
    "cellCenterCalcLamp.Update()\n",
    "    \n",
    "#on extrait le point numéro 0 de la mesh qui correspond au centre du mesh.\n",
    "pointsCellCentersLamp = cellCenterCalcLamp.GetOutput(0)"
   ]
  },
  {
   "cell_type": "code",
   "execution_count": null,
   "metadata": {},
   "outputs": [],
   "source": [
    "# Création de 'vtkPolyDataNormals()' et le connecter à la lampe\n",
    "normalsCalcLamp = vtk.vtkPolyDataNormals()\n",
    "normalsCalcLamp.SetInputConnection(Lamp.GetOutputPort())\n",
    "\n",
    "# Disable normal calculation at cell vertices\n",
    "normalsCalcLamp.ComputePointNormalsOff()\n",
    "# Enable normal calculation at cell centers\n",
    "normalsCalcLamp.ComputeCellNormalsOn()\n",
    "# Disable splitting of sharp edges\n",
    "normalsCalcLamp.SplittingOff()\n",
    "# Disable global flipping of normal orientation\n",
    "normalsCalcLamp.FlipNormalsOff()\n",
    "# Enable automatic determination of correct normal orientation\n",
    "normalsCalcLamp.AutoOrientNormalsOn()\n",
    "# Perform calculation\n",
    "normalsCalcLamp.Update()"
   ]
  },
  {
   "cell_type": "code",
   "execution_count": null,
   "metadata": {},
   "outputs": [],
   "source": [
    "#Extract the normal-vector data at the sun's cells\n",
    "normalsLamp = normalsCalcLamp.GetOutput().GetCellData().GetNormals()\n",
    "# Extract the normal-vector data at the earth's cells\n",
    "normalsSurface = normalsCalcSurface.GetOutput().GetCellData().GetNormals()\n",
    " "
   ]
  },
  {
   "cell_type": "code",
   "execution_count": null,
   "metadata": {},
   "outputs": [],
   "source": [
    "#Pour chaque point central de surface mesh de la lampe\n",
    "i=0\n",
    "for idx in range(pointsCellCentersLamp.GetNumberOfPoints()):\n",
    "# Get coordinates of lamp's cell center\n",
    "   pointLamp = pointsCellCentersLamp.GetPoint(idx)\n",
    " # Get normal vector at that cell\n",
    "   normalLamp = normalsLamp.GetTuple(idx)\n",
    "    \n",
    "# Calculate the 'target' of the ray \n",
    "   pointRayTarget = n2l(l2n(pointLamp) + 500*l2n(normalLamp))\n",
    "\n",
    "# Check if there are any intersections for the given ray with surface\n",
    "   if isHit(obbSurface, pointLamp, pointRayTarget):  # intersections were found\n",
    "        # Retrieve coordinates of intersection points and intersected cell ids\n",
    "        pointsInter, cellIdsInter = GetIntersect(obbSurface, pointLamp, pointRayTarget)\n",
    "        # Render lines/rays emanating from the slamp. \n",
    "        addLine(ren, pointLamp, pointsInter[0], color(data[\"array\"][str(v)][\"wavelength\"]), opacity = 0.1)\n",
    "        # Render intersection points\n",
    "        point = addPoint(ren, pointsInter[0], color(data[\"array\"][str(v)][\"wavelength\"]), opacity = 0.1)\n",
    "        # Calculate the incident ray vector\n",
    "        # Get the normal vector at the surface cell that intersected with the ray\n",
    "        normalSurface = normalsSurface.GetTuple(cellIdsInter[0])\n",
    "        vecInc = n2l(l2n(pointRayTarget) - l2n(pointLamp))\n",
    "        # Calculate the reflected ray vector\n",
    "        vecRef = calcVecR(vecInc, normalSurface)\n",
    "        # Calculate the 'target' of the reflected ray \n",
    "        pointRayReflectedTarget = n2l(l2n(pointsInter[0]) + l2n(vecRef))\n",
    "        \n",
    "        # Fresnel \n",
    "        R, T =Fresnel(data[\"room\"][\"n_air\"],data[\"room\"][\"n_paroi\"],vecInc,normalSurface)\n",
    "    # Check if there are any intersections for the given ray with plante  \n",
    "    \n",
    "   if isHit(obbPlant, pointLamp, pointRayTarget):  # intersections were found\n",
    "        # Retrieve coordinates of intersection points and intersected cell ids\n",
    "        ptsInter, cIdsInter = GetIntersect_plant(obbPlant, pointLamp, pointRayTarget)\n",
    "        # Render lines/rays emanating from the slamp. \n",
    "        addLine(ren, pointLamp, ptsInter[0], color(data[\"array\"][str(v)][\"wavelength\"]))\n",
    "        # Render intersection points\n",
    "        addPoint(ren, ptsInter[0], color(data[\"array\"][str(v)][\"wavelength\"]))\n",
    "        \n",
    "        key = \"surface_\"+str(cIdsInter[0])\n",
    "          \n",
    "        if key in plant_result: \n",
    "              plant_result[\"surface_\"+str(cIdsInter[0])]['coord'][i] = ptsInter[0]\n",
    "              plant_result[\"surface_\"+str(cIdsInter[0])]['lampe'][i] = v\n",
    "              plant_result[\"surface_\"+str(cIdsInter[0])]['Rayonnement'][i] = 1\n",
    "              i+=1\n",
    "              \n",
    "             \n",
    "        else:\n",
    "             plant_result.update({\"surface_\"+str(cIdsInter[0]):{\"coord\":{},\"Rayonnement\":{},\"lampe\":{}}})\n",
    "             plant_result[\"surface_\"+str(cIdsInter[0])]['coord'][i]= ptsInter[0]\n",
    "             plant_result[\"surface_\"+str(cIdsInter[0])]['lampe'][i] = v\n",
    "             plant_result[\"surface_\"+str(cIdsInter[0])]['Rayonnement'][i] = 1\n",
    "             i+=1\n",
    "                # Check if there are any intersections for the given ray with plante  \n",
    "   if isHit(obbPlant, pointLamp, pointRayTarget):  # intersections were found\n",
    "        # Retrieve coordinates of intersection points and intersected cell ids\n",
    "        ptsInter, cIdsInter = GetIntersect_plant(obbPlant, pointLamp, pointRayTarget)\n",
    "        # Render lines/rays emanating from the slamp. \n",
    "        addLine(ren, pointLamp, ptsInter[0], color(data[\"array\"][str(v)][\"wavelength\"]))\n",
    "        # Render intersection points\n",
    "        addPoint(ren, ptsInter[0], color(data[\"array\"][str(v)][\"wavelength\"]))\n",
    "        \n",
    "        key = \"surface_\"+str(cIdsInter[0])\n",
    "          \n",
    "        if key in plant_result: \n",
    "              plant_result[\"surface_\"+str(cIdsInter[0])]['coord'][i] = ptsInter[0]\n",
    "              plant_result[\"surface_\"+str(cIdsInter[0])]['lampe'][i] = v\n",
    "              plant_result[\"surface_\"+str(cIdsInter[0])]['Rayonnement'][i] = 1\n",
    "              i+=1\n",
    "              \n",
    "             \n",
    "        else:\n",
    "             plant_result.update({\"surface_\"+str(cIdsInter[0]):{\"coord\":{},\"Rayonnement\":{},\"lampe\":{}}})\n",
    "             plant_result[\"surface_\"+str(cIdsInter[0])]['coord'][i]= ptsInter[0]\n",
    "             plant_result[\"surface_\"+str(cIdsInter[0])]['lampe'][i] = v\n",
    "             plant_result[\"surface_\"+str(cIdsInter[0])]['Rayonnement'][i] = 1\n",
    "             i+=1\n",
    "   if data[\"room\"][\"reflection\"] == \"speculaire\":\n",
    "      # Check if there are any intersections for the given ray\n",
    "          # Check if there are any intersections for the given ray with plante  \n",
    "       if isHit(obbSurface,  pointsInter[0], pointRayReflectedTarget):  # intersections were found\n",
    "          # Retrieve coordinates of intersection points and intersected cell ids\n",
    "            pointsInter, cellIdsInter = GetIntersect(obbSurface,  pointsInter[0], pointRayReflectedTarget)\n",
    "     \n",
    "            addLine(ren,  pointsInter[0], pointsInter[1], color(data[\"array\"][str(v)][\"wavelength\"]),opacity=0.1)\n",
    "            addPoint(ren, pointsInter[1], color(data[\"array\"][str(v)][\"wavelength\"]), opacity =0.1)\n",
    "         \n",
    "           # Calculate the incident ray vector\n",
    "           # Get the normal vector at the earth cell that intersected with the ray\n",
    "            normalSurface = normalsSurface.GetTuple(cellIdsInter[1])\n",
    "            vecInc = n2l(l2n(pointRayReflectedTarget) - l2n(pointsInter[1]))\n",
    "           # Calculate the reflected ray vector\n",
    "            vecRef = calcVecR(vecInc, normalSurface)\n",
    "            \n",
    "            pointRayReflectedTarget = n2l(l2n(pointsInter[1]) + l2n(vecRef))\n",
    "     # Check if there are any intersections for the given ray with plante  \n",
    "       if isHit(obbPlant, pointsInter[0], pointRayReflectedTarget):  # intersections were found\n",
    "        # Retrieve coordinates of intersection points and intersected cell ids\n",
    "           ptsInter, cIdsInter = GetIntersect_plant(obbPlant,  pointsInter[0], pointRayReflectedTarget)\n",
    "        # Render lines/rays emanating from the slamp. \n",
    "           addLine(ren, pointsInter[0], ptsInter[0], color(data[\"array\"][str(v)][\"wavelength\"]))\n",
    "        # Render intersection points\n",
    "           addPoint(ren, ptsInter[0], color(data[\"array\"][str(v)][\"wavelength\"]))\n",
    "        \n",
    "           key = \"surface_\"+str(cIdsInter[0])\n",
    "        \n",
    "           if key in plant_result: \n",
    "              plant_result[\"surface_\"+str(cIdsInter[0])]['coord'][i] = ptsInter[0]\n",
    "              plant_result[\"surface_\"+str(cIdsInter[0])]['lampe'][i] = v\n",
    "              plant_result[\"surface_\"+str(cIdsInter[0])]['Rayonnement'][i] = R\n",
    "              i+=1\n",
    "            \n",
    "             \n",
    "           else:\n",
    "             plant_result.update({\"surface_\"+str(cIdsInter[0]):{\"coord\":{},\"Rayonnement\":{},\"lampe\":{}}})\n",
    "             plant_result[\"surface_\"+str(cIdsInter[0])]['coord'][i]= ptsInter[0]\n",
    "             plant_result[\"surface_\"+str(cIdsInter[0])]['lampe'][i] = v\n",
    "             plant_result[\"surface_\"+str(cIdsInter[0])]['Rayonnement'][i] = R"
   ]
  },
  {
   "cell_type": "code",
   "execution_count": null,
   "metadata": {},
   "outputs": [],
   "source": [
    "# nombre de rayons atteint la plante\n",
    "print(str(i-1)+\" rayons ont atteint la plante\" )\n",
    "print(\"Chaque lampe a émis \"+str(idx)+\" rayons\")"
   ]
  },
  {
   "cell_type": "code",
   "execution_count": null,
   "metadata": {},
   "outputs": [],
   "source": [
    "# durée de l'execution du programme\n",
    "endTime = datetime.now()\n",
    "deltaTime = endTime - startTime\n",
    "print(\"Completed in \"+str(deltaTime))"
   ]
  },
  {
   "cell_type": "code",
   "execution_count": null,
   "metadata": {},
   "outputs": [],
   "source": [
    "with open(\"out_1_lamp.json\", \"w\") as f:\n",
    "        json.dump(plant_result, f,indent= 8)"
   ]
  },
  {
   "cell_type": "code",
   "execution_count": null,
   "metadata": {},
   "outputs": [],
   "source": [
    "#renWin = vtk.vtkRenderWindow()\n",
    "#renWin.AddRenderer(ren)\n",
    "\n",
    "#iren = vtk.vtkRenderWindowInteractor()\n",
    "#iren.SetRenderWindow(renWin)\n",
    "\n",
    "#iren.Initialize()\n",
    "#renWin.Render()\n",
    "#iren.Start()"
   ]
  },
  {
   "cell_type": "code",
   "execution_count": null,
   "metadata": {},
   "outputs": [],
   "source": []
  }
 ],
 "metadata": {
  "kernelspec": {
   "display_name": "Python 3",
   "language": "python",
   "name": "python3"
  },
  "language_info": {
   "codemirror_mode": {
    "name": "ipython",
    "version": 3
   },
   "file_extension": ".py",
   "mimetype": "text/x-python",
   "name": "python",
   "nbconvert_exporter": "python",
   "pygments_lexer": "ipython3",
   "version": "3.7.9"
  }
 },
 "nbformat": 4,
 "nbformat_minor": 4
}
