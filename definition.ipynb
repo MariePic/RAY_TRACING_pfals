{
 "cells": [
  {
   "cell_type": "markdown",
   "metadata": {},
   "source": [
    "# Fonctions utiles pour le script principal *ray_tracing.ipynb*"
   ]
  },
  {
   "cell_type": "markdown",
   "metadata": {},
   "source": [
    "*Importation des modules*"
   ]
  },
  {
   "cell_type": "code",
   "execution_count": null,
   "metadata": {},
   "outputs": [],
   "source": [
    "import vtk\n",
    "import numpy\n",
    "import random"
   ]
  },
  {
   "cell_type": "markdown",
   "metadata": {},
   "source": [
    "*Conversion list/tuple en numpy & vice-versa*"
   ]
  },
  {
   "cell_type": "markdown",
   "metadata": {},
   "source": [
    "Les deux fonctions *lamba* permettent de convertir une liste ou un tuple en un tableau numérique et vice-versa. \n",
    "En effet, VTK utilise et génére des données telles que les coordonnées ou les vecteurs en object de type 'liste' ou 'tuple' qu'il faut convertir en objet de type 'numpy' pour effectuer des opérations vectoriels."
   ]
  },
  {
   "cell_type": "code",
   "execution_count": null,
   "metadata": {},
   "outputs": [],
   "source": [
    "l2n = lambda l: numpy.array(l)\n",
    "n2l = lambda n: list(n)"
   ]
  },
  {
   "cell_type": "markdown",
   "metadata": {},
   "source": [
    "*Tracer un ligne entre deux points*"
   ]
  },
  {
   "cell_type": "code",
   "execution_count": 1,
   "metadata": {},
   "outputs": [],
   "source": [
    "def addLine(renderer, p1, p2, color=[0.0, 0.0, 1.0], opacity=1.0): #color = RGB\n",
    "    line = vtk.vtkLineSource()\n",
    "    line.SetPoint1(p1)\n",
    "    line.SetPoint2(p2)\n",
    "\n",
    "    mapper = vtk.vtkPolyDataMapper()\n",
    "    mapper.SetInputConnection(line.GetOutputPort())\n",
    "\n",
    "    actor = vtk.vtkActor()\n",
    "    actor.SetMapper(mapper)\n",
    "    actor.GetProperty().SetColor(color)\n",
    "    actor.GetProperty().SetOpacity(opacity)\n",
    "    actor.GetProperty()\n",
    "\n",
    "    renderer.AddActor(actor)"
   ]
  },
  {
   "cell_type": "markdown",
   "metadata": {},
   "source": [
    "*Tracer un point*"
   ]
  },
  {
   "cell_type": "code",
   "execution_count": null,
   "metadata": {},
   "outputs": [],
   "source": [
    "def addPoint(renderer, p, color=[0.0, 0.0, 0.0], radius=0.01, opacity=1):\n",
    "    point = vtk.vtkSphereSource()\n",
    "    point.SetCenter(p)\n",
    "    point.SetRadius(radius)\n",
    "    point.SetPhiResolution(35)\n",
    "    point.SetThetaResolution(35)\n",
    "\n",
    "    mapper = vtk.vtkPolyDataMapper()\n",
    "    mapper.SetInputConnection(point.GetOutputPort())\n",
    "\n",
    "    actor = vtk.vtkActor()\n",
    "    actor.SetMapper(mapper)\n",
    "    actor.GetProperty().SetColor(color)\n",
    "    actor.GetProperty().EdgeVisibilityOn()  # show edges/wireframe\n",
    "    actor.GetProperty().SetOpacity(opacity)\n",
    "    actor.GetProperty().SetEdgeColor(0, 0, 0)\n",
    "\n",
    "    renderer.AddActor(actor)\n",
    "    \n",
    "    return point"
   ]
  },
  {
   "cell_type": "markdown",
   "metadata": {},
   "source": [
    "*Attribuation d'une couleur en fonction du spectre visible*"
   ]
  },
  {
   "cell_type": "markdown",
   "metadata": {},
   "source": [
    "Pour mieux visualiser le ray-tracing, les couleurs des rayons et des lampes sont attribuées selon le spectre visible des longueurs d'onde. "
   ]
  },
  {
   "cell_type": "markdown",
   "metadata": {},
   "source": [
    "<img src =\"https://upload.wikimedia.org/wikipedia/commons/thumb/e/e3/Spectre_visible_lineaire_en_longueur_d_onde.png/1200px-Spectre_visible_lineaire_en_longueur_d_onde.png\" width=\"500\">\n"
   ]
  },
  {
   "cell_type": "code",
   "execution_count": null,
   "metadata": {},
   "outputs": [],
   "source": [
    "def color(wavelenght):\n",
    "    if wavelenght < 400:\n",
    "        color = (0.54, 0.22, 0.69)\n",
    "        \n",
    "    if 400 <= wavelenght <500:\n",
    "        color = (0, 0, 1)\n",
    "        \n",
    "    if 500 <= wavelenght <550:\n",
    "        color = (0, 1, 0)\n",
    "        \n",
    "    if 550 <= wavelenght <600:\n",
    "        color = (1, 1, 0)\n",
    "        \n",
    "    if 600 <= wavelenght <650:\n",
    "        color = (1, 0.5, 0)\n",
    "        \n",
    "    if  wavelenght > 650:\n",
    "        color = (1, 0, 0)\n",
    "        \n",
    "    return colo"
   ]
  },
  {
   "cell_type": "markdown",
   "metadata": {},
   "source": [
    "*Intersection*"
   ]
  },
  {
   "cell_type": "markdown",
   "metadata": {},
   "source": [
    "La fonction *IntersectWithLine* couplée avec *obbTree* permet de déterminer si une intersection d'une droite entre deux points avec un object préalablement défini comme intersective est trouvée."
   ]
  },
  {
   "cell_type": "code",
   "execution_count": null,
   "metadata": {},
   "outputs": [],
   "source": [
    "def isHit(obbTree, pSource, pTarget):\n",
    "    r\"\"\"Returns True if the line intersects with the mesh in 'obbTree'\"\"\"\n",
    "    code = obbTree.IntersectWithLine(pSource, pTarget, None, None)\n",
    "    if code==0:\n",
    "        return False\n",
    "    return True"
   ]
  },
  {
   "cell_type": "markdown",
   "metadata": {},
   "source": [
    "*Identification & coordonnées du point incident*"
   ]
  },
  {
   "cell_type": "markdown",
   "metadata": {},
   "source": [
    "Cette fonction permet d'extraire les coordonnées et le numéro du point incident lorqu'une intersection est trouvée. "
   ]
  },
  {
   "cell_type": "code",
   "execution_count": null,
   "metadata": {},
   "outputs": [],
   "source": [
    "def GetIntersect(obbTree, pSource, pTarget):\n",
    "    \n",
    "    points = vtk.vtkPoints()\n",
    "    cellIds = vtk.vtkIdList()\n",
    "\n",
    "    code = obbTree.IntersectWithLine(pSource, pTarget, points, cellIds)\n",
    "    \n",
    "\n",
    "    pointData = points.GetData()\n",
    "    noPoints = pointData.GetNumberOfTuples()\n",
    "    noIds = cellIds.GetNumberOfIds()\n",
    "    \n",
    "    assert (noPoints == noIds)\n",
    "    \n",
    "    pointsInter = []\n",
    "    cellIdsInter = []\n",
    "    for idx in range(noPoints):\n",
    "        pointsInter.append(pointData.GetTuple3(idx))\n",
    "        cellIdsInter.append(cellIds.GetId(idx))\n",
    "    \n",
    "    return pointsInter, cellIdsInter"
   ]
  },
  {
   "cell_type": "markdown",
   "metadata": {},
   "source": [
    "*Vecteur réféchi spéculaire*"
   ]
  },
  {
   "cell_type": "markdown",
   "metadata": {},
   "source": [
    "Cette fonction permet de tracer le vecteur réfléchi de façon spéculaire selon la loi de Snell-Descartes (Greve,2004)."
   ]
  },
  {
   "cell_type": "code",
   "execution_count": null,
   "metadata": {},
   "outputs": [],
   "source": [
    "def calcVecR(vecInc, vecNor):\n",
    "    vecInc = l2n(vecInc)\n",
    "    vecNor = l2n(vecNor)\n",
    "    \n",
    "    vecRef = vecInc - 2*numpy.dot(vecInc, vecNor)*vecNor\n",
    "    \n",
    "    return n2l(vecRef)"
   ]
  },
  {
   "cell_type": "markdown",
   "metadata": {},
   "source": [
    "*Similarité cosinus*"
   ]
  },
  {
   "cell_type": "markdown",
   "metadata": {},
   "source": [
    "Cette fonction permet de déterminer l'angle entre deux vecteurs $A$ et $B$ selon le concept de la similarité cosinus."
   ]
  },
  {
   "cell_type": "markdown",
   "metadata": {},
   "source": [
    "$$\n",
    "\\theta = arccos\\left(\\frac {AB} {\\lVert A\\lVert \\lVert B\\lVert}\\right) \n",
    "$$"
   ]
  },
  {
   "cell_type": "code",
   "execution_count": 5,
   "metadata": {},
   "outputs": [],
   "source": [
    "def calcAngle(A,B): \n",
    "    A = l2n(A)\n",
    "    B = l2n(B)\n",
    "    \n",
    "    prodscal = A[0] * B[0] + A[1] * B[1] + vA[2] * vB[2]\n",
    "    NormeA = numpy.sqrt(A[0]**2 + A[1]**2 + A[2]**2)\n",
    "    NormeB = numpy.sqrt(B[0]**2 + B[1]**2 + B[2]**2)\n",
    "   \n",
    "    return numpy.arccos( prodscal / (NormeA * NormeB))"
   ]
  },
  {
   "cell_type": "markdown",
   "metadata": {},
   "source": [
    "*Coefficient Fresnel & tirage aléatoire*"
   ]
  },
  {
   "cell_type": "markdown",
   "metadata": {},
   "source": [
    "Les probabilités de réflection et de transmission sont calculées selon les coefficient de Fresnel (voir rappels théoriques). Un tirage aléatoire est effectué entre la réflection et la transmission selon le poids attribué pour chacun de deux évènements."
   ]
  },
  {
   "cell_type": "code",
   "execution_count": 2,
   "metadata": {},
   "outputs": [],
   "source": [
    "def Fresnel(n1, n2, vecInc, vecNor):\n",
    "    vecInc = l2n(vecInc)\n",
    "    vecNor = l2n(vecNor)\n",
    "    \n",
    "    thetai = calcAngle(vecInc,vecNor)\n",
    "    \n",
    "    if thetai < numpy.arcsin((n1/n2)*sin(thetai)):\n",
    "      sin_thetat_2 = ((n1/n2)**2)*numpy.sin(thetai)**2\n",
    "      cos_thetat = numpy.sqrt(1-sin_thetat_2)\n",
    "    \n",
    "      R_parallele = ((n1*numpy.cos(thetai) - n2*cos_thetat)/(n1*numpy.cos(thetai) + n2*cos_thetat))**2\n",
    "      R_perpendiculaire = ((n2*numpy.cos(thetai) - n1*cos_thetat)/(n2*numpy.cos(thetai) + n1*cos_thetat))**2\n",
    "    \n",
    "      R = (R_parallele + R_perpendiculaire)/2\n",
    "      T = 1-R #transmis\n",
    "    \n",
    "    else:\n",
    "       R = 1\n",
    "       T = 0  \n",
    "        \n",
    "    x = random.choices(['R', 'T'], weights = [R, T])\n",
    "    \n",
    "    return x"
   ]
  },
  {
   "cell_type": "markdown",
   "metadata": {},
   "source": [
    "*Coordonnées et normal des points*"
   ]
  },
  {
   "cell_type": "markdown",
   "metadata": {},
   "source": [
    "Les coordonnées des cellules du maillage d'une forme, ainsi que leur normale sont déterminées."
   ]
  },
  {
   "cell_type": "code",
   "execution_count": null,
   "metadata": {},
   "outputs": [],
   "source": [
    "def cellcenter_normal(forme):\n",
    "\n",
    " cellCenterCalc = vtk.vtkCellCenters()\n",
    " cellCenterCalc.SetInputConnection(forme.GetOutputPort())\n",
    " cellCenterCalc.Update()\n",
    "\n",
    " pointsCellCenters = cellCenterCalc.GetOutput(0)\n",
    "\n",
    " normalsCalc = vtk.vtkPolyDataNormals()\n",
    " normalsCalc.SetInputConnection(forme.GetOutputPort())\n",
    "\n",
    "# Disable normal calculation at cell vertices\n",
    " normalsCalc.ComputePointNormalsOff()\n",
    "# Enable normal calculation at cell centers\n",
    " normalsCalc.ComputeCellNormalsOn()\n",
    "# Disable splitting of sharp edges\n",
    " normalsCalc.SplittingOff()\n",
    "# Disable global flipping of normal orientation\n",
    " normalsCalc.FlipNormalsOff()\n",
    "# Enable automatic determination of correct normal orientation\n",
    " normalsCalc.AutoOrientNormalsOn()\n",
    "# Perform calculation\n",
    " normalsCalc.Update()\n",
    " \n",
    " normalsforme = normalsCalc.GetOutput().GetCellData().GetNormals()\n",
    "    \n",
    " return pointsCellCenters, normalsforme"
   ]
  }
 ],
 "metadata": {
  "kernelspec": {
   "display_name": "Python 3",
   "language": "python",
   "name": "python3"
  },
  "language_info": {
   "codemirror_mode": {
    "name": "ipython",
    "version": 3
   },
   "file_extension": ".py",
   "mimetype": "text/x-python",
   "name": "python",
   "nbconvert_exporter": "python",
   "pygments_lexer": "ipython3",
   "version": "3.7.9"
  }
 },
 "nbformat": 4,
 "nbformat_minor": 4
}
