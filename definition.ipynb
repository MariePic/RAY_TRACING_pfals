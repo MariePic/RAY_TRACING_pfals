{
 "cells": [
  {
   "cell_type": "code",
   "execution_count": null,
   "metadata": {},
   "outputs": [],
   "source": [
    "import vtk\n",
    "import numpy\n",
    "import random"
   ]
  },
  {
   "cell_type": "code",
   "execution_count": null,
   "metadata": {},
   "outputs": [],
   "source": [
    "l2n = lambda l: numpy.array(l)\n",
    "n2l = lambda n: list(n)"
   ]
  },
  {
   "cell_type": "code",
   "execution_count": null,
   "metadata": {},
   "outputs": [],
   "source": [
    "#### Tracer une ligner ####\n",
    "def addLine(renderer, p1, p2, color=[0.0, 0.0, 1.0], opacity=1.0):\n",
    "    line = vtk.vtkLineSource()\n",
    "    line.SetPoint1(p1)\n",
    "    line.SetPoint2(p2)\n",
    "\n",
    "    mapper = vtk.vtkPolyDataMapper()\n",
    "    mapper.SetInputConnection(line.GetOutputPort())\n",
    "\n",
    "    actor = vtk.vtkActor()\n",
    "    actor.SetMapper(mapper)\n",
    "    actor.GetProperty().SetColor(color)\n",
    "    actor.GetProperty().SetOpacity(opacity)\n",
    "    actor.GetProperty()\n",
    "\n",
    "    renderer.AddActor(actor)"
   ]
  },
  {
   "cell_type": "code",
   "execution_count": null,
   "metadata": {},
   "outputs": [],
   "source": [
    "#### Ajouter un point #### \n",
    "def addPoint(renderer, p, color=[0.0, 0.0, 0.0], radius=0.01, opacity=1):\n",
    "    point = vtk.vtkSphereSource()\n",
    "    point.SetCenter(p)\n",
    "    point.SetRadius(radius)\n",
    "    point.SetPhiResolution(35)\n",
    "    point.SetThetaResolution(35)\n",
    "\n",
    "    mapper = vtk.vtkPolyDataMapper()\n",
    "    mapper.SetInputConnection(point.GetOutputPort())\n",
    "\n",
    "    actor = vtk.vtkActor()\n",
    "    actor.SetMapper(mapper)\n",
    "    actor.GetProperty().SetColor(color)\n",
    "    actor.GetProperty().EdgeVisibilityOn()  # show edges/wireframe\n",
    "    actor.GetProperty().SetOpacity(opacity)\n",
    "    actor.GetProperty().SetEdgeColor(0, 0, 0)\n",
    "\n",
    "    renderer.AddActor(actor)\n",
    "    \n",
    "    return point"
   ]
  },
  {
   "cell_type": "code",
   "execution_count": null,
   "metadata": {},
   "outputs": [],
   "source": [
    "### couleur lumière ###\n",
    "\n",
    "def color(wavelenght):\n",
    "    if wavelenght < 400:\n",
    "        color = (0.54, 0.22, 0.69)\n",
    "        \n",
    "    if 400 <= wavelenght <500:\n",
    "        color = (0, 0, 1)\n",
    "        \n",
    "    if 500 <= wavelenght <550:\n",
    "        color = (0, 1, 0)\n",
    "        \n",
    "    if 550 <= wavelenght <600:\n",
    "        color = (1, 1, 0)\n",
    "        \n",
    "    if 600 <= wavelenght <650:\n",
    "        color = (1, 0.5, 0)\n",
    "        \n",
    "    if  wavelenght > 650:\n",
    "        color = (1, 0, 0)\n",
    "        \n",
    "    return colo"
   ]
  },
  {
   "cell_type": "code",
   "execution_count": null,
   "metadata": {},
   "outputs": [],
   "source": [
    "def isHit(obbTree, pSource, pTarget):\n",
    "    r\"\"\"Returns True if the line intersects with the mesh in 'obbTree'\"\"\"\n",
    "    code = obbTree.IntersectWithLine(pSource, pTarget, None, None)\n",
    "    if code==0:\n",
    "        return False\n",
    "    return True"
   ]
  },
  {
   "cell_type": "code",
   "execution_count": null,
   "metadata": {},
   "outputs": [],
   "source": [
    "def GetIntersect(obbTree, pSource, pTarget):\n",
    "    \n",
    "    # Create an empty 'vtkPoints' object to store the intersection point coordinates\n",
    "    points = vtk.vtkPoints()\n",
    "    # Create an empty 'vtkIdList' object to store the ids of the cells that intersect\n",
    "    # with the cast rays\n",
    "    cellIds = vtk.vtkIdList()\n",
    "    \n",
    "    # Perform intersection\n",
    "    code = obbTree.IntersectWithLine(pSource, pTarget, points, cellIds)\n",
    "    \n",
    "    # Get point-data \n",
    "    pointData = points.GetData()\n",
    "    # Get number of intersection points found\n",
    "    noPoints = pointData.GetNumberOfTuples()\n",
    "    # Get number of intersected cell ids\n",
    "    noIds = cellIds.GetNumberOfIds()\n",
    "    \n",
    "    assert (noPoints == noIds)\n",
    "    \n",
    "    # Loop through the found points and cells and store\n",
    "    # them in lists\n",
    "    pointsInter = []\n",
    "    cellIdsInter = []\n",
    "    for idx in range(noPoints):\n",
    "        pointsInter.append(pointData.GetTuple3(idx))\n",
    "        cellIdsInter.append(cellIds.GetId(idx))\n",
    "    \n",
    "    return pointsInter, cellIdsInter"
   ]
  },
  {
   "cell_type": "code",
   "execution_count": null,
   "metadata": {},
   "outputs": [],
   "source": [
    "def calcVecR(vecInc, vecNor):\n",
    "    vecInc = l2n(vecInc)\n",
    "    vecNor = l2n(vecNor)\n",
    "    \n",
    "    vecRef = vecInc - 2*numpy.dot(vecInc, vecNor)*vecNor\n",
    "    \n",
    "    return n2l(vecRef)"
   ]
  },
  {
   "cell_type": "code",
   "execution_count": null,
   "metadata": {},
   "outputs": [],
   "source": [
    "def calcAngle(vecInc,vecNor): \n",
    "    vecInc = l2n(vecInc)\n",
    "    vecNor = l2n(vecNor)\n",
    "    \n",
    "    prodscal = vecInc[0] * vecNor[0] + vecInc[1] * vecNor[1] + vecInc[2] * vecNor[2]\n",
    "    NormevecInc = numpy.sqrt(vecInc[0]**2 + vecInc[1]**2 + vecInc[2]**2)\n",
    "    NormevecNor = numpy.sqrt(vecNor[0]**2 + vecNor[1]**2 + vecNor[2]**2)\n",
    "   \n",
    "    return numpy.arccos( prodscal / (NormevecInc * NormevecNor))"
   ]
  },
  {
   "cell_type": "code",
   "execution_count": null,
   "metadata": {},
   "outputs": [],
   "source": [
    "def Fresnel(n1, n2, vecInc, vecNor):\n",
    "    vecInc = l2n(vecInc)\n",
    "    vecNor = l2n(vecNor)\n",
    "    \n",
    "    thetai = calcAngle(vecInc,vecNor)\n",
    "    \n",
    "    \n",
    "    sin_thetat_2 = ((n1/n2)**2)*numpy.sin(thetai)**2\n",
    "    cos_thetat = numpy.sqrt(1-sin_thetat_2)\n",
    "    \n",
    "    R_parallele = ((n1*numpy.cos(thetai) - n2*cos_thetat)/(n1*numpy.cos(thetai) + n2*cos_thetat))**2\n",
    "    R_perpendiculaire = ((n2*numpy.cos(thetai) - n1*cos_thetat)/(n2*numpy.cos(thetai) + n1*cos_thetat))**2\n",
    "    \n",
    "    R = (R_parallele + R_perpendiculaire)/2\n",
    "    T = 1-R #transmis\n",
    "    \n",
    "    if R > 1: \n",
    "      R = 1\n",
    "      T = 0  \n",
    "    x = random.choices(['R', 'T'], weights = [R, T])\n",
    "    \n",
    "    return x"
   ]
  },
  {
   "cell_type": "code",
   "execution_count": null,
   "metadata": {},
   "outputs": [],
   "source": [
    "def cellcenter_normal(forme):\n",
    "\n",
    " cellCenterCalc = vtk.vtkCellCenters()\n",
    " cellCenterCalc.SetInputConnection(forme.GetOutputPort())\n",
    " cellCenterCalc.Update()\n",
    "\n",
    " pointsCellCenters = cellCenterCalc.GetOutput(0)\n",
    "\n",
    "# Create a new 'vtkPolyDataNormals' and connect to the 'lamp' half-sphere\n",
    " normalsCalc = vtk.vtkPolyDataNormals()\n",
    " normalsCalc.SetInputConnection(forme.GetOutputPort())\n",
    "\n",
    "# Disable normal calculation at cell vertices\n",
    " normalsCalc.ComputePointNormalsOff()\n",
    "# Enable normal calculation at cell centers\n",
    " normalsCalc.ComputeCellNormalsOn()\n",
    "# Disable splitting of sharp edges\n",
    " normalsCalc.SplittingOff()\n",
    "# Disable global flipping of normal orientation\n",
    " normalsCalc.FlipNormalsOff()\n",
    "# Enable automatic determination of correct normal orientation\n",
    " normalsCalc.AutoOrientNormalsOn()\n",
    "# Perform calculation\n",
    " normalsCalc.Update()\n",
    " \n",
    " normalsforme = normalsCalc.GetOutput().GetCellData().GetNormals()\n",
    "    \n",
    " return pointsCellCenters, normalsforme"
   ]
  }
 ],
 "metadata": {
  "kernelspec": {
   "display_name": "Python 3",
   "language": "python",
   "name": "python3"
  },
  "language_info": {
   "codemirror_mode": {
    "name": "ipython",
    "version": 3
   },
   "file_extension": ".py",
   "mimetype": "text/x-python",
   "name": "python",
   "nbconvert_exporter": "python",
   "pygments_lexer": "ipython3",
   "version": "3.7.9"
  }
 },
 "nbformat": 4,
 "nbformat_minor": 4
}
